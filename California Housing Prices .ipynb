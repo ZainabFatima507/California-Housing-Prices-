{
 "cells": [
  {
   "cell_type": "markdown",
   "id": "respiratory-childhood",
   "metadata": {},
   "source": [
    "# Housing Data"
   ]
  },
  {
   "cell_type": "markdown",
   "id": "portuguese-creativity",
   "metadata": {},
   "source": [
    "In this Exploratory Data Anaysis paper, we are going to do Exploratory data analysis of a housing dataset of California Housing Prices which you can access  [here](https://www.kaggle.com/camnugent/california-housing-prices?select=housing.csv \"Title\")."
   ]
  },
  {
   "cell_type": "markdown",
   "id": "continental-syntax",
   "metadata": {},
   "source": [
    ">We have some features of the data set as follows:\n",
    "> * longitude:\n",
    "     * The longitude measure of the house, a higher value is farther west.\n",
    "> * latitude:\n",
    "     * The latitude measure of the house, a higher value is farther north.\n",
    "> * housing_median_age:\n",
    "     * Median age of a house within a block; a lower number is a newer building\n",
    "> * total_rooms:\n",
    "     * Total number of rooms within a block.\n",
    "> * total_bedrooms:\n",
    "     * Total number of bedrooms within a block.\n",
    "> * population:\n",
    "     * Total number of people residing within a block\n",
    "> * households:\n",
    "     * Total number of households, a group of people residing within a home unit, for a block\n",
    "> * median_income:\n",
    "     *  Median income for households within a block of houses (measured in tens of thousands of US Dollars).\n",
    "> * median_house_value:\n",
    "     *  Median house value for households within a block (measured in US Dollars)\n",
    "> * ocean_proximity:\n",
    "     * Location of the house w.r.t ocean/sea."
   ]
  },
  {
   "cell_type": "markdown",
   "id": "judicial-pregnancy",
   "metadata": {},
   "source": [
    "Since we know all the parameters and there meanings, we need to know our data we need to understand whether they all come under same scale or we need to change the scale in order to get some useful insights.\n",
    "\n",
    "To know the type of all the parameters, we can use a function `ds.dtypes()` but before that we need to import useful libraries like `pandas` , `numpy` and upload the data set in our notebook. \n",
    "\n",
    "We will be importing the libraries along the way as we require."
   ]
  },
  {
   "cell_type": "code",
   "execution_count": 1,
   "id": "direct-extreme",
   "metadata": {},
   "outputs": [],
   "source": [
    "import pandas as pd\n",
    "import numpy as np"
   ]
  },
  {
   "cell_type": "markdown",
   "id": "annoying-wages",
   "metadata": {},
   "source": [
    "Now that we have imported `pandas` library, we can use `read_csv` function to read our `.csv` file containg the housing dataset."
   ]
  },
  {
   "cell_type": "code",
   "execution_count": 2,
   "id": "returning-execution",
   "metadata": {},
   "outputs": [],
   "source": [
    "ds=pd.read_csv('housing.csv')"
   ]
  },
  {
   "cell_type": "markdown",
   "id": "fuzzy-florida",
   "metadata": {},
   "source": [
    "To see the top of the data set like any number of rows from the top, we use the `.head()` method,\n",
    "                   \n",
    "                   DataFrame.head(n=5)\n",
    "                  \n",
    "We can pass any integer as we like, even we don't pass any value it will show 5 elements from the top by default.\n"
   ]
  },
  {
   "cell_type": "code",
   "execution_count": 3,
   "id": "engaging-voltage",
   "metadata": {
    "scrolled": false
   },
   "outputs": [
    {
     "data": {
      "text/plain": [
       "longitude             float64\n",
       "latitude              float64\n",
       "housing_median_age    float64\n",
       "total_rooms           float64\n",
       "total_bedrooms        float64\n",
       "population            float64\n",
       "households            float64\n",
       "median_income         float64\n",
       "median_house_value    float64\n",
       "ocean_proximity        object\n",
       "dtype: object"
      ]
     },
     "execution_count": 3,
     "metadata": {},
     "output_type": "execute_result"
    }
   ],
   "source": [
    "ds.dtypes"
   ]
  },
  {
   "cell_type": "markdown",
   "id": "indoor-disclosure",
   "metadata": {},
   "source": [
    "Now we want to see quickly some stats about our data, like `count` of values each parameter has, `mean` of all the values of each parameter, `Standard Deviation` of the values of each parameter, and many more.For that we will be using a very amazing method provided `pandas` library that is `describe()`."
   ]
  },
  {
   "cell_type": "code",
   "execution_count": 4,
   "id": "characteristic-lexington",
   "metadata": {
    "scrolled": true
   },
   "outputs": [
    {
     "data": {
      "text/html": [
       "<div>\n",
       "<style scoped>\n",
       "    .dataframe tbody tr th:only-of-type {\n",
       "        vertical-align: middle;\n",
       "    }\n",
       "\n",
       "    .dataframe tbody tr th {\n",
       "        vertical-align: top;\n",
       "    }\n",
       "\n",
       "    .dataframe thead th {\n",
       "        text-align: right;\n",
       "    }\n",
       "</style>\n",
       "<table border=\"1\" class=\"dataframe\">\n",
       "  <thead>\n",
       "    <tr style=\"text-align: right;\">\n",
       "      <th></th>\n",
       "      <th>longitude</th>\n",
       "      <th>latitude</th>\n",
       "      <th>housing_median_age</th>\n",
       "      <th>total_rooms</th>\n",
       "      <th>total_bedrooms</th>\n",
       "      <th>population</th>\n",
       "      <th>households</th>\n",
       "      <th>median_income</th>\n",
       "      <th>median_house_value</th>\n",
       "    </tr>\n",
       "  </thead>\n",
       "  <tbody>\n",
       "    <tr>\n",
       "      <th>count</th>\n",
       "      <td>20640.000000</td>\n",
       "      <td>20640.000000</td>\n",
       "      <td>20640.000000</td>\n",
       "      <td>20640.000000</td>\n",
       "      <td>20433.000000</td>\n",
       "      <td>20640.000000</td>\n",
       "      <td>20640.000000</td>\n",
       "      <td>20640.000000</td>\n",
       "      <td>20640.000000</td>\n",
       "    </tr>\n",
       "    <tr>\n",
       "      <th>mean</th>\n",
       "      <td>-119.569704</td>\n",
       "      <td>35.631861</td>\n",
       "      <td>28.639486</td>\n",
       "      <td>2635.763081</td>\n",
       "      <td>537.870553</td>\n",
       "      <td>1425.476744</td>\n",
       "      <td>499.539680</td>\n",
       "      <td>3.870671</td>\n",
       "      <td>206855.816909</td>\n",
       "    </tr>\n",
       "    <tr>\n",
       "      <th>std</th>\n",
       "      <td>2.003532</td>\n",
       "      <td>2.135952</td>\n",
       "      <td>12.585558</td>\n",
       "      <td>2181.615252</td>\n",
       "      <td>421.385070</td>\n",
       "      <td>1132.462122</td>\n",
       "      <td>382.329753</td>\n",
       "      <td>1.899822</td>\n",
       "      <td>115395.615874</td>\n",
       "    </tr>\n",
       "    <tr>\n",
       "      <th>min</th>\n",
       "      <td>-124.350000</td>\n",
       "      <td>32.540000</td>\n",
       "      <td>1.000000</td>\n",
       "      <td>2.000000</td>\n",
       "      <td>1.000000</td>\n",
       "      <td>3.000000</td>\n",
       "      <td>1.000000</td>\n",
       "      <td>0.499900</td>\n",
       "      <td>14999.000000</td>\n",
       "    </tr>\n",
       "    <tr>\n",
       "      <th>25%</th>\n",
       "      <td>-121.800000</td>\n",
       "      <td>33.930000</td>\n",
       "      <td>18.000000</td>\n",
       "      <td>1447.750000</td>\n",
       "      <td>296.000000</td>\n",
       "      <td>787.000000</td>\n",
       "      <td>280.000000</td>\n",
       "      <td>2.563400</td>\n",
       "      <td>119600.000000</td>\n",
       "    </tr>\n",
       "    <tr>\n",
       "      <th>50%</th>\n",
       "      <td>-118.490000</td>\n",
       "      <td>34.260000</td>\n",
       "      <td>29.000000</td>\n",
       "      <td>2127.000000</td>\n",
       "      <td>435.000000</td>\n",
       "      <td>1166.000000</td>\n",
       "      <td>409.000000</td>\n",
       "      <td>3.534800</td>\n",
       "      <td>179700.000000</td>\n",
       "    </tr>\n",
       "    <tr>\n",
       "      <th>75%</th>\n",
       "      <td>-118.010000</td>\n",
       "      <td>37.710000</td>\n",
       "      <td>37.000000</td>\n",
       "      <td>3148.000000</td>\n",
       "      <td>647.000000</td>\n",
       "      <td>1725.000000</td>\n",
       "      <td>605.000000</td>\n",
       "      <td>4.743250</td>\n",
       "      <td>264725.000000</td>\n",
       "    </tr>\n",
       "    <tr>\n",
       "      <th>max</th>\n",
       "      <td>-114.310000</td>\n",
       "      <td>41.950000</td>\n",
       "      <td>52.000000</td>\n",
       "      <td>39320.000000</td>\n",
       "      <td>6445.000000</td>\n",
       "      <td>35682.000000</td>\n",
       "      <td>6082.000000</td>\n",
       "      <td>15.000100</td>\n",
       "      <td>500001.000000</td>\n",
       "    </tr>\n",
       "  </tbody>\n",
       "</table>\n",
       "</div>"
      ],
      "text/plain": [
       "          longitude      latitude  housing_median_age   total_rooms  \\\n",
       "count  20640.000000  20640.000000        20640.000000  20640.000000   \n",
       "mean    -119.569704     35.631861           28.639486   2635.763081   \n",
       "std        2.003532      2.135952           12.585558   2181.615252   \n",
       "min     -124.350000     32.540000            1.000000      2.000000   \n",
       "25%     -121.800000     33.930000           18.000000   1447.750000   \n",
       "50%     -118.490000     34.260000           29.000000   2127.000000   \n",
       "75%     -118.010000     37.710000           37.000000   3148.000000   \n",
       "max     -114.310000     41.950000           52.000000  39320.000000   \n",
       "\n",
       "       total_bedrooms    population    households  median_income  \\\n",
       "count    20433.000000  20640.000000  20640.000000   20640.000000   \n",
       "mean       537.870553   1425.476744    499.539680       3.870671   \n",
       "std        421.385070   1132.462122    382.329753       1.899822   \n",
       "min          1.000000      3.000000      1.000000       0.499900   \n",
       "25%        296.000000    787.000000    280.000000       2.563400   \n",
       "50%        435.000000   1166.000000    409.000000       3.534800   \n",
       "75%        647.000000   1725.000000    605.000000       4.743250   \n",
       "max       6445.000000  35682.000000   6082.000000      15.000100   \n",
       "\n",
       "       median_house_value  \n",
       "count        20640.000000  \n",
       "mean        206855.816909  \n",
       "std         115395.615874  \n",
       "min          14999.000000  \n",
       "25%         119600.000000  \n",
       "50%         179700.000000  \n",
       "75%         264725.000000  \n",
       "max         500001.000000  "
      ]
     },
     "execution_count": 4,
     "metadata": {},
     "output_type": "execute_result"
    }
   ],
   "source": [
    "ds.describe()"
   ]
  },
  {
   "cell_type": "markdown",
   "id": "lyric-speech",
   "metadata": {},
   "source": [
    "Here we can see clearly some of the statistical values of our data that can help us have an insight on the data.\n",
    "\n",
    "What can we grab from these statistical measures? Well first of them is count which shows the number of values an attribute \n",
    "comprises.\n",
    "What information can we get from count, well we can see if any of the attribute has some Null values or not.\n",
    "\n",
    "We have count of each variable as follows:\n",
    "\n"
   ]
  },
  {
   "cell_type": "markdown",
   "id": "packed-canon",
   "metadata": {},
   "source": [
    "\n",
    "| Attribute | Count |\n",
    "|---|---|\n",
    "| longitude | 20640 |\n",
    "| latitude | 20640 |\n",
    "| housing_median_age | 20640 |\n",
    "| total_rooms | 20640 |\n",
    "| total_bedrooms | 20433 |\n",
    "| population | \t20640 |\n",
    "| households | 20640 |\n",
    "| median_income | 20640 |\n",
    "| median_house_value | 20640 |"
   ]
  },
  {
   "cell_type": "markdown",
   "id": "secret-position",
   "metadata": {},
   "source": [
    "As the above table suggest, We have the highest count of 20640 and many attributes like `longitude`, `latitude`, `housing_median_age`,\n",
    "`total_rooms`, `population`, `households`, `median_income`, `median_house_value` have values for every row/tuple.\n",
    "But the attribute `total_bedrooms` have count of 20433 which is obviously less than 20640, so it shows `total_bedrooms` have some null values."
   ]
  },
  {
   "cell_type": "markdown",
   "id": "framed-momentum",
   "metadata": {},
   "source": [
    "We can also viualize the missing values using the `missingno` library in python."
   ]
  },
  {
   "cell_type": "code",
   "execution_count": 5,
   "id": "arbitrary-brief",
   "metadata": {},
   "outputs": [
    {
     "data": {
      "text/plain": [
       "<AxesSubplot:>"
      ]
     },
     "execution_count": 5,
     "metadata": {},
     "output_type": "execute_result"
    },
    {
     "data": {
      "image/png": "[encoded data removed]",
      "text/plain": [
       "<Figure size 1440x432 with 2 Axes>"
      ]
     },
     "metadata": {
      "needs_background": "light"
     },
     "output_type": "display_data"
    }
   ],
   "source": [
    "import missingno as mno\n",
    "mno.matrix(ds, figsize = (20, 6))"
   ]
  },
  {
   "cell_type": "markdown",
   "id": "complete-substitute",
   "metadata": {},
   "source": [
    "We can see some white strips on the `total_bedrooms` column, it indicates the missing values."
   ]
  },
  {
   "cell_type": "markdown",
   "id": "freelance-aviation",
   "metadata": {},
   "source": [
    "## Handling Missing Data"
   ]
  },
  {
   "cell_type": "markdown",
   "id": "remarkable-sport",
   "metadata": {},
   "source": [
    "Now that we know `total_bedrooms` have some null values, we need to fix it, This fixing of data comes under the cleaning which is a step of preprocessing.\n",
    "\n",
    "So how to Handle the missing data?\n",
    "\n",
    "For that we have some techniques.\n",
    "* Remove the feature in which Null values are present, not a good idea because we don't know how important that feature may be for predicting the target variable.We  can go for it if we know the there is no relation between target variable and the this feature.\n",
    "* Remove the tuples/rows in which the values are missing, again not a good idea as we will be losing a good amount of data in this process.\n",
    "* We can impute the missing values or you can say fill up the missing values with a constant value that can be 0, mean(of the feature values), median(of the feature values) or mode(of the feature values), or any other value. It is easy but not always good because it may change the behaviour of the feature.\n",
    "* We use regression to impute the missing values that is we can train a model using other feature to predict the missing values, it is good, we will be using this approch to handle our missing values.\n"
   ]
  },
  {
   "cell_type": "markdown",
   "id": "musical-parks",
   "metadata": {},
   "source": [
    "But before that we have to make the data into numbers, that is we have to do label encoding if any of the columns are in string form, we have `ocean_proximity` which categorical and in string form, we need to change it to numbers by `Label Encoding` "
   ]
  },
  {
   "cell_type": "code",
   "execution_count": 6,
   "id": "running-rocket",
   "metadata": {
    "scrolled": true
   },
   "outputs": [
    {
     "data": {
      "text/html": [
       "<div>\n",
       "<style scoped>\n",
       "    .dataframe tbody tr th:only-of-type {\n",
       "        vertical-align: middle;\n",
       "    }\n",
       "\n",
       "    .dataframe tbody tr th {\n",
       "        vertical-align: top;\n",
       "    }\n",
       "\n",
       "    .dataframe thead th {\n",
       "        text-align: right;\n",
       "    }\n",
       "</style>\n",
       "<table border=\"1\" class=\"dataframe\">\n",
       "  <thead>\n",
       "    <tr style=\"text-align: right;\">\n",
       "      <th></th>\n",
       "      <th>longitude</th>\n",
       "      <th>latitude</th>\n",
       "      <th>housing_median_age</th>\n",
       "      <th>total_rooms</th>\n",
       "      <th>total_bedrooms</th>\n",
       "      <th>population</th>\n",
       "      <th>households</th>\n",
       "      <th>median_income</th>\n",
       "      <th>median_house_value</th>\n",
       "      <th>ocean_proximity</th>\n",
       "    </tr>\n",
       "  </thead>\n",
       "  <tbody>\n",
       "    <tr>\n",
       "      <th>0</th>\n",
       "      <td>-122.23</td>\n",
       "      <td>37.88</td>\n",
       "      <td>41.0</td>\n",
       "      <td>880.0</td>\n",
       "      <td>129.0</td>\n",
       "      <td>322.0</td>\n",
       "      <td>126.0</td>\n",
       "      <td>8.3252</td>\n",
       "      <td>452600.0</td>\n",
       "      <td>3</td>\n",
       "    </tr>\n",
       "    <tr>\n",
       "      <th>1</th>\n",
       "      <td>-122.22</td>\n",
       "      <td>37.86</td>\n",
       "      <td>21.0</td>\n",
       "      <td>7099.0</td>\n",
       "      <td>1106.0</td>\n",
       "      <td>2401.0</td>\n",
       "      <td>1138.0</td>\n",
       "      <td>8.3014</td>\n",
       "      <td>358500.0</td>\n",
       "      <td>3</td>\n",
       "    </tr>\n",
       "    <tr>\n",
       "      <th>2</th>\n",
       "      <td>-122.24</td>\n",
       "      <td>37.85</td>\n",
       "      <td>52.0</td>\n",
       "      <td>1467.0</td>\n",
       "      <td>190.0</td>\n",
       "      <td>496.0</td>\n",
       "      <td>177.0</td>\n",
       "      <td>7.2574</td>\n",
       "      <td>352100.0</td>\n",
       "      <td>3</td>\n",
       "    </tr>\n",
       "    <tr>\n",
       "      <th>3</th>\n",
       "      <td>-122.25</td>\n",
       "      <td>37.85</td>\n",
       "      <td>52.0</td>\n",
       "      <td>1274.0</td>\n",
       "      <td>235.0</td>\n",
       "      <td>558.0</td>\n",
       "      <td>219.0</td>\n",
       "      <td>5.6431</td>\n",
       "      <td>341300.0</td>\n",
       "      <td>3</td>\n",
       "    </tr>\n",
       "    <tr>\n",
       "      <th>4</th>\n",
       "      <td>-122.25</td>\n",
       "      <td>37.85</td>\n",
       "      <td>52.0</td>\n",
       "      <td>1627.0</td>\n",
       "      <td>280.0</td>\n",
       "      <td>565.0</td>\n",
       "      <td>259.0</td>\n",
       "      <td>3.8462</td>\n",
       "      <td>342200.0</td>\n",
       "      <td>3</td>\n",
       "    </tr>\n",
       "    <tr>\n",
       "      <th>...</th>\n",
       "      <td>...</td>\n",
       "      <td>...</td>\n",
       "      <td>...</td>\n",
       "      <td>...</td>\n",
       "      <td>...</td>\n",
       "      <td>...</td>\n",
       "      <td>...</td>\n",
       "      <td>...</td>\n",
       "      <td>...</td>\n",
       "      <td>...</td>\n",
       "    </tr>\n",
       "    <tr>\n",
       "      <th>20635</th>\n",
       "      <td>-121.09</td>\n",
       "      <td>39.48</td>\n",
       "      <td>25.0</td>\n",
       "      <td>1665.0</td>\n",
       "      <td>374.0</td>\n",
       "      <td>845.0</td>\n",
       "      <td>330.0</td>\n",
       "      <td>1.5603</td>\n",
       "      <td>78100.0</td>\n",
       "      <td>1</td>\n",
       "    </tr>\n",
       "    <tr>\n",
       "      <th>20636</th>\n",
       "      <td>-121.21</td>\n",
       "      <td>39.49</td>\n",
       "      <td>18.0</td>\n",
       "      <td>697.0</td>\n",
       "      <td>150.0</td>\n",
       "      <td>356.0</td>\n",
       "      <td>114.0</td>\n",
       "      <td>2.5568</td>\n",
       "      <td>77100.0</td>\n",
       "      <td>1</td>\n",
       "    </tr>\n",
       "    <tr>\n",
       "      <th>20637</th>\n",
       "      <td>-121.22</td>\n",
       "      <td>39.43</td>\n",
       "      <td>17.0</td>\n",
       "      <td>2254.0</td>\n",
       "      <td>485.0</td>\n",
       "      <td>1007.0</td>\n",
       "      <td>433.0</td>\n",
       "      <td>1.7000</td>\n",
       "      <td>92300.0</td>\n",
       "      <td>1</td>\n",
       "    </tr>\n",
       "    <tr>\n",
       "      <th>20638</th>\n",
       "      <td>-121.32</td>\n",
       "      <td>39.43</td>\n",
       "      <td>18.0</td>\n",
       "      <td>1860.0</td>\n",
       "      <td>409.0</td>\n",
       "      <td>741.0</td>\n",
       "      <td>349.0</td>\n",
       "      <td>1.8672</td>\n",
       "      <td>84700.0</td>\n",
       "      <td>1</td>\n",
       "    </tr>\n",
       "    <tr>\n",
       "      <th>20639</th>\n",
       "      <td>-121.24</td>\n",
       "      <td>39.37</td>\n",
       "      <td>16.0</td>\n",
       "      <td>2785.0</td>\n",
       "      <td>616.0</td>\n",
       "      <td>1387.0</td>\n",
       "      <td>530.0</td>\n",
       "      <td>2.3886</td>\n",
       "      <td>89400.0</td>\n",
       "      <td>1</td>\n",
       "    </tr>\n",
       "  </tbody>\n",
       "</table>\n",
       "<p>20640 rows × 10 columns</p>\n",
       "</div>"
      ],
      "text/plain": [
       "       longitude  latitude  housing_median_age  total_rooms  total_bedrooms  \\\n",
       "0        -122.23     37.88                41.0        880.0           129.0   \n",
       "1        -122.22     37.86                21.0       7099.0          1106.0   \n",
       "2        -122.24     37.85                52.0       1467.0           190.0   \n",
       "3        -122.25     37.85                52.0       1274.0           235.0   \n",
       "4        -122.25     37.85                52.0       1627.0           280.0   \n",
       "...          ...       ...                 ...          ...             ...   \n",
       "20635    -121.09     39.48                25.0       1665.0           374.0   \n",
       "20636    -121.21     39.49                18.0        697.0           150.0   \n",
       "20637    -121.22     39.43                17.0       2254.0           485.0   \n",
       "20638    -121.32     39.43                18.0       1860.0           409.0   \n",
       "20639    -121.24     39.37                16.0       2785.0           616.0   \n",
       "\n",
       "       population  households  median_income  median_house_value  \\\n",
       "0           322.0       126.0         8.3252            452600.0   \n",
       "1          2401.0      1138.0         8.3014            358500.0   \n",
       "2           496.0       177.0         7.2574            352100.0   \n",
       "3           558.0       219.0         5.6431            341300.0   \n",
       "4           565.0       259.0         3.8462            342200.0   \n",
       "...           ...         ...            ...                 ...   \n",
       "20635       845.0       330.0         1.5603             78100.0   \n",
       "20636       356.0       114.0         2.5568             77100.0   \n",
       "20637      1007.0       433.0         1.7000             92300.0   \n",
       "20638       741.0       349.0         1.8672             84700.0   \n",
       "20639      1387.0       530.0         2.3886             89400.0   \n",
       "\n",
       "       ocean_proximity  \n",
       "0                    3  \n",
       "1                    3  \n",
       "2                    3  \n",
       "3                    3  \n",
       "4                    3  \n",
       "...                ...  \n",
       "20635                1  \n",
       "20636                1  \n",
       "20637                1  \n",
       "20638                1  \n",
       "20639                1  \n",
       "\n",
       "[20640 rows x 10 columns]"
      ]
     },
     "execution_count": 6,
     "metadata": {},
     "output_type": "execute_result"
    }
   ],
   "source": [
    "from sklearn.preprocessing import LabelEncoder\n",
    "ds.loc[:,['ocean_proximity']] = LabelEncoder().fit_transform(ds['ocean_proximity'])\n",
    "ds\n"
   ]
  },
  {
   "cell_type": "markdown",
   "id": "common-bearing",
   "metadata": {},
   "source": [
    "Now we have all the features in numbers"
   ]
  },
  {
   "cell_type": "markdown",
   "id": "minus-practitioner",
   "metadata": {},
   "source": [
    "We are going to train our a `LinearRegression` model with features `longitude`, `latitude`, `housing_median_age`,\n",
    "`total_rooms`, `population`, `households`, `median_income`, `median_house_value` to predict the missing values in feature `total_bedrooms`."
   ]
  },
  {
   "cell_type": "code",
   "execution_count": null,
   "id": "korean-regular",
   "metadata": {},
   "outputs": [],
   "source": []
  },
  {
   "cell_type": "markdown",
   "id": "medium-humanitarian",
   "metadata": {},
   "source": [
    "## Mini Model for filling missing values"
   ]
  },
  {
   "cell_type": "markdown",
   "id": "contrary-layout",
   "metadata": {},
   "source": [
    "In the code below we dropped all the rows having `NaN` value for `total_bedrooms`"
   ]
  },
  {
   "cell_type": "code",
   "execution_count": 7,
   "id": "based-strengthening",
   "metadata": {},
   "outputs": [
    {
     "data": {
      "text/html": [
       "<div>\n",
       "<style scoped>\n",
       "    .dataframe tbody tr th:only-of-type {\n",
       "        vertical-align: middle;\n",
       "    }\n",
       "\n",
       "    .dataframe tbody tr th {\n",
       "        vertical-align: top;\n",
       "    }\n",
       "\n",
       "    .dataframe thead th {\n",
       "        text-align: right;\n",
       "    }\n",
       "</style>\n",
       "<table border=\"1\" class=\"dataframe\">\n",
       "  <thead>\n",
       "    <tr style=\"text-align: right;\">\n",
       "      <th></th>\n",
       "      <th>longitude</th>\n",
       "      <th>latitude</th>\n",
       "      <th>housing_median_age</th>\n",
       "      <th>total_rooms</th>\n",
       "      <th>total_bedrooms</th>\n",
       "      <th>population</th>\n",
       "      <th>households</th>\n",
       "      <th>median_income</th>\n",
       "      <th>median_house_value</th>\n",
       "      <th>ocean_proximity</th>\n",
       "    </tr>\n",
       "  </thead>\n",
       "  <tbody>\n",
       "    <tr>\n",
       "      <th>0</th>\n",
       "      <td>-122.23</td>\n",
       "      <td>37.88</td>\n",
       "      <td>41.0</td>\n",
       "      <td>880.0</td>\n",
       "      <td>129.0</td>\n",
       "      <td>322.0</td>\n",
       "      <td>126.0</td>\n",
       "      <td>8.3252</td>\n",
       "      <td>452600.0</td>\n",
       "      <td>3</td>\n",
       "    </tr>\n",
       "    <tr>\n",
       "      <th>1</th>\n",
       "      <td>-122.22</td>\n",
       "      <td>37.86</td>\n",
       "      <td>21.0</td>\n",
       "      <td>7099.0</td>\n",
       "      <td>1106.0</td>\n",
       "      <td>2401.0</td>\n",
       "      <td>1138.0</td>\n",
       "      <td>8.3014</td>\n",
       "      <td>358500.0</td>\n",
       "      <td>3</td>\n",
       "    </tr>\n",
       "    <tr>\n",
       "      <th>2</th>\n",
       "      <td>-122.24</td>\n",
       "      <td>37.85</td>\n",
       "      <td>52.0</td>\n",
       "      <td>1467.0</td>\n",
       "      <td>190.0</td>\n",
       "      <td>496.0</td>\n",
       "      <td>177.0</td>\n",
       "      <td>7.2574</td>\n",
       "      <td>352100.0</td>\n",
       "      <td>3</td>\n",
       "    </tr>\n",
       "    <tr>\n",
       "      <th>3</th>\n",
       "      <td>-122.25</td>\n",
       "      <td>37.85</td>\n",
       "      <td>52.0</td>\n",
       "      <td>1274.0</td>\n",
       "      <td>235.0</td>\n",
       "      <td>558.0</td>\n",
       "      <td>219.0</td>\n",
       "      <td>5.6431</td>\n",
       "      <td>341300.0</td>\n",
       "      <td>3</td>\n",
       "    </tr>\n",
       "    <tr>\n",
       "      <th>4</th>\n",
       "      <td>-122.25</td>\n",
       "      <td>37.85</td>\n",
       "      <td>52.0</td>\n",
       "      <td>1627.0</td>\n",
       "      <td>280.0</td>\n",
       "      <td>565.0</td>\n",
       "      <td>259.0</td>\n",
       "      <td>3.8462</td>\n",
       "      <td>342200.0</td>\n",
       "      <td>3</td>\n",
       "    </tr>\n",
       "    <tr>\n",
       "      <th>...</th>\n",
       "      <td>...</td>\n",
       "      <td>...</td>\n",
       "      <td>...</td>\n",
       "      <td>...</td>\n",
       "      <td>...</td>\n",
       "      <td>...</td>\n",
       "      <td>...</td>\n",
       "      <td>...</td>\n",
       "      <td>...</td>\n",
       "      <td>...</td>\n",
       "    </tr>\n",
       "    <tr>\n",
       "      <th>20635</th>\n",
       "      <td>-121.09</td>\n",
       "      <td>39.48</td>\n",
       "      <td>25.0</td>\n",
       "      <td>1665.0</td>\n",
       "      <td>374.0</td>\n",
       "      <td>845.0</td>\n",
       "      <td>330.0</td>\n",
       "      <td>1.5603</td>\n",
       "      <td>78100.0</td>\n",
       "      <td>1</td>\n",
       "    </tr>\n",
       "    <tr>\n",
       "      <th>20636</th>\n",
       "      <td>-121.21</td>\n",
       "      <td>39.49</td>\n",
       "      <td>18.0</td>\n",
       "      <td>697.0</td>\n",
       "      <td>150.0</td>\n",
       "      <td>356.0</td>\n",
       "      <td>114.0</td>\n",
       "      <td>2.5568</td>\n",
       "      <td>77100.0</td>\n",
       "      <td>1</td>\n",
       "    </tr>\n",
       "    <tr>\n",
       "      <th>20637</th>\n",
       "      <td>-121.22</td>\n",
       "      <td>39.43</td>\n",
       "      <td>17.0</td>\n",
       "      <td>2254.0</td>\n",
       "      <td>485.0</td>\n",
       "      <td>1007.0</td>\n",
       "      <td>433.0</td>\n",
       "      <td>1.7000</td>\n",
       "      <td>92300.0</td>\n",
       "      <td>1</td>\n",
       "    </tr>\n",
       "    <tr>\n",
       "      <th>20638</th>\n",
       "      <td>-121.32</td>\n",
       "      <td>39.43</td>\n",
       "      <td>18.0</td>\n",
       "      <td>1860.0</td>\n",
       "      <td>409.0</td>\n",
       "      <td>741.0</td>\n",
       "      <td>349.0</td>\n",
       "      <td>1.8672</td>\n",
       "      <td>84700.0</td>\n",
       "      <td>1</td>\n",
       "    </tr>\n",
       "    <tr>\n",
       "      <th>20639</th>\n",
       "      <td>-121.24</td>\n",
       "      <td>39.37</td>\n",
       "      <td>16.0</td>\n",
       "      <td>2785.0</td>\n",
       "      <td>616.0</td>\n",
       "      <td>1387.0</td>\n",
       "      <td>530.0</td>\n",
       "      <td>2.3886</td>\n",
       "      <td>89400.0</td>\n",
       "      <td>1</td>\n",
       "    </tr>\n",
       "  </tbody>\n",
       "</table>\n",
       "<p>20433 rows × 10 columns</p>\n",
       "</div>"
      ],
      "text/plain": [
       "       longitude  latitude  housing_median_age  total_rooms  total_bedrooms  \\\n",
       "0        -122.23     37.88                41.0        880.0           129.0   \n",
       "1        -122.22     37.86                21.0       7099.0          1106.0   \n",
       "2        -122.24     37.85                52.0       1467.0           190.0   \n",
       "3        -122.25     37.85                52.0       1274.0           235.0   \n",
       "4        -122.25     37.85                52.0       1627.0           280.0   \n",
       "...          ...       ...                 ...          ...             ...   \n",
       "20635    -121.09     39.48                25.0       1665.0           374.0   \n",
       "20636    -121.21     39.49                18.0        697.0           150.0   \n",
       "20637    -121.22     39.43                17.0       2254.0           485.0   \n",
       "20638    -121.32     39.43                18.0       1860.0           409.0   \n",
       "20639    -121.24     39.37                16.0       2785.0           616.0   \n",
       "\n",
       "       population  households  median_income  median_house_value  \\\n",
       "0           322.0       126.0         8.3252            452600.0   \n",
       "1          2401.0      1138.0         8.3014            358500.0   \n",
       "2           496.0       177.0         7.2574            352100.0   \n",
       "3           558.0       219.0         5.6431            341300.0   \n",
       "4           565.0       259.0         3.8462            342200.0   \n",
       "...           ...         ...            ...                 ...   \n",
       "20635       845.0       330.0         1.5603             78100.0   \n",
       "20636       356.0       114.0         2.5568             77100.0   \n",
       "20637      1007.0       433.0         1.7000             92300.0   \n",
       "20638       741.0       349.0         1.8672             84700.0   \n",
       "20639      1387.0       530.0         2.3886             89400.0   \n",
       "\n",
       "       ocean_proximity  \n",
       "0                    3  \n",
       "1                    3  \n",
       "2                    3  \n",
       "3                    3  \n",
       "4                    3  \n",
       "...                ...  \n",
       "20635                1  \n",
       "20636                1  \n",
       "20637                1  \n",
       "20638                1  \n",
       "20639                1  \n",
       "\n",
       "[20433 rows x 10 columns]"
      ]
     },
     "execution_count": 7,
     "metadata": {},
     "output_type": "execute_result"
    }
   ],
   "source": [
    "miss_train=ds.dropna(subset=['total_bedrooms'])\n",
    "miss_train"
   ]
  },
  {
   "cell_type": "markdown",
   "id": "magnetic-dylan",
   "metadata": {},
   "source": [
    "Now we are creating `miss_train_X`(which contains all the features except `total_bedrooms`) with which we are going to train this model."
   ]
  },
  {
   "cell_type": "code",
   "execution_count": 8,
   "id": "anonymous-newspaper",
   "metadata": {
    "scrolled": false
   },
   "outputs": [
    {
     "data": {
      "text/html": [
       "<div>\n",
       "<style scoped>\n",
       "    .dataframe tbody tr th:only-of-type {\n",
       "        vertical-align: middle;\n",
       "    }\n",
       "\n",
       "    .dataframe tbody tr th {\n",
       "        vertical-align: top;\n",
       "    }\n",
       "\n",
       "    .dataframe thead th {\n",
       "        text-align: right;\n",
       "    }\n",
       "</style>\n",
       "<table border=\"1\" class=\"dataframe\">\n",
       "  <thead>\n",
       "    <tr style=\"text-align: right;\">\n",
       "      <th></th>\n",
       "      <th>longitude</th>\n",
       "      <th>latitude</th>\n",
       "      <th>housing_median_age</th>\n",
       "      <th>total_rooms</th>\n",
       "      <th>population</th>\n",
       "      <th>households</th>\n",
       "      <th>median_income</th>\n",
       "      <th>median_house_value</th>\n",
       "      <th>ocean_proximity</th>\n",
       "    </tr>\n",
       "  </thead>\n",
       "  <tbody>\n",
       "    <tr>\n",
       "      <th>0</th>\n",
       "      <td>-122.23</td>\n",
       "      <td>37.88</td>\n",
       "      <td>41.0</td>\n",
       "      <td>880.0</td>\n",
       "      <td>322.0</td>\n",
       "      <td>126.0</td>\n",
       "      <td>8.3252</td>\n",
       "      <td>452600.0</td>\n",
       "      <td>3</td>\n",
       "    </tr>\n",
       "    <tr>\n",
       "      <th>1</th>\n",
       "      <td>-122.22</td>\n",
       "      <td>37.86</td>\n",
       "      <td>21.0</td>\n",
       "      <td>7099.0</td>\n",
       "      <td>2401.0</td>\n",
       "      <td>1138.0</td>\n",
       "      <td>8.3014</td>\n",
       "      <td>358500.0</td>\n",
       "      <td>3</td>\n",
       "    </tr>\n",
       "    <tr>\n",
       "      <th>2</th>\n",
       "      <td>-122.24</td>\n",
       "      <td>37.85</td>\n",
       "      <td>52.0</td>\n",
       "      <td>1467.0</td>\n",
       "      <td>496.0</td>\n",
       "      <td>177.0</td>\n",
       "      <td>7.2574</td>\n",
       "      <td>352100.0</td>\n",
       "      <td>3</td>\n",
       "    </tr>\n",
       "    <tr>\n",
       "      <th>3</th>\n",
       "      <td>-122.25</td>\n",
       "      <td>37.85</td>\n",
       "      <td>52.0</td>\n",
       "      <td>1274.0</td>\n",
       "      <td>558.0</td>\n",
       "      <td>219.0</td>\n",
       "      <td>5.6431</td>\n",
       "      <td>341300.0</td>\n",
       "      <td>3</td>\n",
       "    </tr>\n",
       "    <tr>\n",
       "      <th>4</th>\n",
       "      <td>-122.25</td>\n",
       "      <td>37.85</td>\n",
       "      <td>52.0</td>\n",
       "      <td>1627.0</td>\n",
       "      <td>565.0</td>\n",
       "      <td>259.0</td>\n",
       "      <td>3.8462</td>\n",
       "      <td>342200.0</td>\n",
       "      <td>3</td>\n",
       "    </tr>\n",
       "    <tr>\n",
       "      <th>...</th>\n",
       "      <td>...</td>\n",
       "      <td>...</td>\n",
       "      <td>...</td>\n",
       "      <td>...</td>\n",
       "      <td>...</td>\n",
       "      <td>...</td>\n",
       "      <td>...</td>\n",
       "      <td>...</td>\n",
       "      <td>...</td>\n",
       "    </tr>\n",
       "    <tr>\n",
       "      <th>20635</th>\n",
       "      <td>-121.09</td>\n",
       "      <td>39.48</td>\n",
       "      <td>25.0</td>\n",
       "      <td>1665.0</td>\n",
       "      <td>845.0</td>\n",
       "      <td>330.0</td>\n",
       "      <td>1.5603</td>\n",
       "      <td>78100.0</td>\n",
       "      <td>1</td>\n",
       "    </tr>\n",
       "    <tr>\n",
       "      <th>20636</th>\n",
       "      <td>-121.21</td>\n",
       "      <td>39.49</td>\n",
       "      <td>18.0</td>\n",
       "      <td>697.0</td>\n",
       "      <td>356.0</td>\n",
       "      <td>114.0</td>\n",
       "      <td>2.5568</td>\n",
       "      <td>77100.0</td>\n",
       "      <td>1</td>\n",
       "    </tr>\n",
       "    <tr>\n",
       "      <th>20637</th>\n",
       "      <td>-121.22</td>\n",
       "      <td>39.43</td>\n",
       "      <td>17.0</td>\n",
       "      <td>2254.0</td>\n",
       "      <td>1007.0</td>\n",
       "      <td>433.0</td>\n",
       "      <td>1.7000</td>\n",
       "      <td>92300.0</td>\n",
       "      <td>1</td>\n",
       "    </tr>\n",
       "    <tr>\n",
       "      <th>20638</th>\n",
       "      <td>-121.32</td>\n",
       "      <td>39.43</td>\n",
       "      <td>18.0</td>\n",
       "      <td>1860.0</td>\n",
       "      <td>741.0</td>\n",
       "      <td>349.0</td>\n",
       "      <td>1.8672</td>\n",
       "      <td>84700.0</td>\n",
       "      <td>1</td>\n",
       "    </tr>\n",
       "    <tr>\n",
       "      <th>20639</th>\n",
       "      <td>-121.24</td>\n",
       "      <td>39.37</td>\n",
       "      <td>16.0</td>\n",
       "      <td>2785.0</td>\n",
       "      <td>1387.0</td>\n",
       "      <td>530.0</td>\n",
       "      <td>2.3886</td>\n",
       "      <td>89400.0</td>\n",
       "      <td>1</td>\n",
       "    </tr>\n",
       "  </tbody>\n",
       "</table>\n",
       "<p>20433 rows × 9 columns</p>\n",
       "</div>"
      ],
      "text/plain": [
       "       longitude  latitude  housing_median_age  total_rooms  population  \\\n",
       "0        -122.23     37.88                41.0        880.0       322.0   \n",
       "1        -122.22     37.86                21.0       7099.0      2401.0   \n",
       "2        -122.24     37.85                52.0       1467.0       496.0   \n",
       "3        -122.25     37.85                52.0       1274.0       558.0   \n",
       "4        -122.25     37.85                52.0       1627.0       565.0   \n",
       "...          ...       ...                 ...          ...         ...   \n",
       "20635    -121.09     39.48                25.0       1665.0       845.0   \n",
       "20636    -121.21     39.49                18.0        697.0       356.0   \n",
       "20637    -121.22     39.43                17.0       2254.0      1007.0   \n",
       "20638    -121.32     39.43                18.0       1860.0       741.0   \n",
       "20639    -121.24     39.37                16.0       2785.0      1387.0   \n",
       "\n",
       "       households  median_income  median_house_value  ocean_proximity  \n",
       "0           126.0         8.3252            452600.0                3  \n",
       "1          1138.0         8.3014            358500.0                3  \n",
       "2           177.0         7.2574            352100.0                3  \n",
       "3           219.0         5.6431            341300.0                3  \n",
       "4           259.0         3.8462            342200.0                3  \n",
       "...           ...            ...                 ...              ...  \n",
       "20635       330.0         1.5603             78100.0                1  \n",
       "20636       114.0         2.5568             77100.0                1  \n",
       "20637       433.0         1.7000             92300.0                1  \n",
       "20638       349.0         1.8672             84700.0                1  \n",
       "20639       530.0         2.3886             89400.0                1  \n",
       "\n",
       "[20433 rows x 9 columns]"
      ]
     },
     "execution_count": 8,
     "metadata": {},
     "output_type": "execute_result"
    }
   ],
   "source": [
    "miss_train_X = miss_train.drop(columns=['total_bedrooms'])\n",
    "miss_train_X"
   ]
  },
  {
   "cell_type": "markdown",
   "id": "seeing-pastor",
   "metadata": {},
   "source": [
    "And a target `miss_train_y` which only contains  `total_bedrooms`."
   ]
  },
  {
   "cell_type": "code",
   "execution_count": 9,
   "id": "trying-symbol",
   "metadata": {
    "scrolled": true
   },
   "outputs": [
    {
     "data": {
      "text/plain": [
       "0         129.0\n",
       "1        1106.0\n",
       "2         190.0\n",
       "3         235.0\n",
       "4         280.0\n",
       "          ...  \n",
       "20635     374.0\n",
       "20636     150.0\n",
       "20637     485.0\n",
       "20638     409.0\n",
       "20639     616.0\n",
       "Name: total_bedrooms, Length: 20433, dtype: float64"
      ]
     },
     "execution_count": 9,
     "metadata": {},
     "output_type": "execute_result"
    }
   ],
   "source": [
    "miss_train_y = miss_train['total_bedrooms']\n",
    "miss_train_y"
   ]
  },
  {
   "cell_type": "markdown",
   "id": "improving-teach",
   "metadata": {},
   "source": [
    "We are checking the shape of `miss_train_y` for future reference."
   ]
  },
  {
   "cell_type": "code",
   "execution_count": 10,
   "id": "atmospheric-injection",
   "metadata": {},
   "outputs": [
    {
     "data": {
      "text/plain": [
       "(20433,)"
      ]
     },
     "execution_count": 10,
     "metadata": {},
     "output_type": "execute_result"
    }
   ],
   "source": [
    "miss_train_y.shape"
   ]
  },
  {
   "cell_type": "markdown",
   "id": "honey-paint",
   "metadata": {},
   "source": [
    "For testing we have the rows of ds for which the `total_bedrooms` feature has `NaN` value."
   ]
  },
  {
   "cell_type": "code",
   "execution_count": 11,
   "id": "impaired-tenant",
   "metadata": {
    "scrolled": true
   },
   "outputs": [
    {
     "data": {
      "text/html": [
       "<div>\n",
       "<style scoped>\n",
       "    .dataframe tbody tr th:only-of-type {\n",
       "        vertical-align: middle;\n",
       "    }\n",
       "\n",
       "    .dataframe tbody tr th {\n",
       "        vertical-align: top;\n",
       "    }\n",
       "\n",
       "    .dataframe thead th {\n",
       "        text-align: right;\n",
       "    }\n",
       "</style>\n",
       "<table border=\"1\" class=\"dataframe\">\n",
       "  <thead>\n",
       "    <tr style=\"text-align: right;\">\n",
       "      <th></th>\n",
       "      <th>longitude</th>\n",
       "      <th>latitude</th>\n",
       "      <th>housing_median_age</th>\n",
       "      <th>total_rooms</th>\n",
       "      <th>population</th>\n",
       "      <th>households</th>\n",
       "      <th>median_income</th>\n",
       "      <th>median_house_value</th>\n",
       "      <th>ocean_proximity</th>\n",
       "    </tr>\n",
       "  </thead>\n",
       "  <tbody>\n",
       "    <tr>\n",
       "      <th>290</th>\n",
       "      <td>-122.16</td>\n",
       "      <td>37.77</td>\n",
       "      <td>47.0</td>\n",
       "      <td>1256.0</td>\n",
       "      <td>570.0</td>\n",
       "      <td>218.0</td>\n",
       "      <td>4.3750</td>\n",
       "      <td>161900.0</td>\n",
       "      <td>3</td>\n",
       "    </tr>\n",
       "    <tr>\n",
       "      <th>341</th>\n",
       "      <td>-122.17</td>\n",
       "      <td>37.75</td>\n",
       "      <td>38.0</td>\n",
       "      <td>992.0</td>\n",
       "      <td>732.0</td>\n",
       "      <td>259.0</td>\n",
       "      <td>1.6196</td>\n",
       "      <td>85100.0</td>\n",
       "      <td>3</td>\n",
       "    </tr>\n",
       "    <tr>\n",
       "      <th>538</th>\n",
       "      <td>-122.28</td>\n",
       "      <td>37.78</td>\n",
       "      <td>29.0</td>\n",
       "      <td>5154.0</td>\n",
       "      <td>3741.0</td>\n",
       "      <td>1273.0</td>\n",
       "      <td>2.5762</td>\n",
       "      <td>173400.0</td>\n",
       "      <td>3</td>\n",
       "    </tr>\n",
       "    <tr>\n",
       "      <th>563</th>\n",
       "      <td>-122.24</td>\n",
       "      <td>37.75</td>\n",
       "      <td>45.0</td>\n",
       "      <td>891.0</td>\n",
       "      <td>384.0</td>\n",
       "      <td>146.0</td>\n",
       "      <td>4.9489</td>\n",
       "      <td>247100.0</td>\n",
       "      <td>3</td>\n",
       "    </tr>\n",
       "    <tr>\n",
       "      <th>696</th>\n",
       "      <td>-122.10</td>\n",
       "      <td>37.69</td>\n",
       "      <td>41.0</td>\n",
       "      <td>746.0</td>\n",
       "      <td>387.0</td>\n",
       "      <td>161.0</td>\n",
       "      <td>3.9063</td>\n",
       "      <td>178400.0</td>\n",
       "      <td>3</td>\n",
       "    </tr>\n",
       "    <tr>\n",
       "      <th>...</th>\n",
       "      <td>...</td>\n",
       "      <td>...</td>\n",
       "      <td>...</td>\n",
       "      <td>...</td>\n",
       "      <td>...</td>\n",
       "      <td>...</td>\n",
       "      <td>...</td>\n",
       "      <td>...</td>\n",
       "      <td>...</td>\n",
       "    </tr>\n",
       "    <tr>\n",
       "      <th>20267</th>\n",
       "      <td>-119.19</td>\n",
       "      <td>34.20</td>\n",
       "      <td>18.0</td>\n",
       "      <td>3620.0</td>\n",
       "      <td>3171.0</td>\n",
       "      <td>779.0</td>\n",
       "      <td>3.3409</td>\n",
       "      <td>220500.0</td>\n",
       "      <td>4</td>\n",
       "    </tr>\n",
       "    <tr>\n",
       "      <th>20268</th>\n",
       "      <td>-119.18</td>\n",
       "      <td>34.19</td>\n",
       "      <td>19.0</td>\n",
       "      <td>2393.0</td>\n",
       "      <td>1938.0</td>\n",
       "      <td>762.0</td>\n",
       "      <td>1.6953</td>\n",
       "      <td>167400.0</td>\n",
       "      <td>4</td>\n",
       "    </tr>\n",
       "    <tr>\n",
       "      <th>20372</th>\n",
       "      <td>-118.88</td>\n",
       "      <td>34.17</td>\n",
       "      <td>15.0</td>\n",
       "      <td>4260.0</td>\n",
       "      <td>1701.0</td>\n",
       "      <td>669.0</td>\n",
       "      <td>5.1033</td>\n",
       "      <td>410700.0</td>\n",
       "      <td>0</td>\n",
       "    </tr>\n",
       "    <tr>\n",
       "      <th>20460</th>\n",
       "      <td>-118.75</td>\n",
       "      <td>34.29</td>\n",
       "      <td>17.0</td>\n",
       "      <td>5512.0</td>\n",
       "      <td>2734.0</td>\n",
       "      <td>814.0</td>\n",
       "      <td>6.6073</td>\n",
       "      <td>258100.0</td>\n",
       "      <td>0</td>\n",
       "    </tr>\n",
       "    <tr>\n",
       "      <th>20484</th>\n",
       "      <td>-118.72</td>\n",
       "      <td>34.28</td>\n",
       "      <td>17.0</td>\n",
       "      <td>3051.0</td>\n",
       "      <td>1705.0</td>\n",
       "      <td>495.0</td>\n",
       "      <td>5.7376</td>\n",
       "      <td>218600.0</td>\n",
       "      <td>0</td>\n",
       "    </tr>\n",
       "  </tbody>\n",
       "</table>\n",
       "<p>207 rows × 9 columns</p>\n",
       "</div>"
      ],
      "text/plain": [
       "       longitude  latitude  housing_median_age  total_rooms  population  \\\n",
       "290      -122.16     37.77                47.0       1256.0       570.0   \n",
       "341      -122.17     37.75                38.0        992.0       732.0   \n",
       "538      -122.28     37.78                29.0       5154.0      3741.0   \n",
       "563      -122.24     37.75                45.0        891.0       384.0   \n",
       "696      -122.10     37.69                41.0        746.0       387.0   \n",
       "...          ...       ...                 ...          ...         ...   \n",
       "20267    -119.19     34.20                18.0       3620.0      3171.0   \n",
       "20268    -119.18     34.19                19.0       2393.0      1938.0   \n",
       "20372    -118.88     34.17                15.0       4260.0      1701.0   \n",
       "20460    -118.75     34.29                17.0       5512.0      2734.0   \n",
       "20484    -118.72     34.28                17.0       3051.0      1705.0   \n",
       "\n",
       "       households  median_income  median_house_value  ocean_proximity  \n",
       "290         218.0         4.3750            161900.0                3  \n",
       "341         259.0         1.6196             85100.0                3  \n",
       "538        1273.0         2.5762            173400.0                3  \n",
       "563         146.0         4.9489            247100.0                3  \n",
       "696         161.0         3.9063            178400.0                3  \n",
       "...           ...            ...                 ...              ...  \n",
       "20267       779.0         3.3409            220500.0                4  \n",
       "20268       762.0         1.6953            167400.0                4  \n",
       "20372       669.0         5.1033            410700.0                0  \n",
       "20460       814.0         6.6073            258100.0                0  \n",
       "20484       495.0         5.7376            218600.0                0  \n",
       "\n",
       "[207 rows x 9 columns]"
      ]
     },
     "execution_count": 11,
     "metadata": {},
     "output_type": "execute_result"
    }
   ],
   "source": [
    "miss_test=ds[ds.total_bedrooms.isnull()].drop(columns=['total_bedrooms'])\n",
    "miss_test"
   ]
  },
  {
   "cell_type": "markdown",
   "id": "american-compensation",
   "metadata": {},
   "source": [
    "We have our data in hand with train and test sets and all values in numbers, we are now ready to do some math.\n",
    "\n",
    "But before that we have to make sure our all the columns have same range, otherwise it won't work well.  "
   ]
  },
  {
   "cell_type": "markdown",
   "id": "abstract-beginning",
   "metadata": {},
   "source": [
    "To scale down all the feature in same range, we can use a method `StandardScaler` form `preprocessing` library of sklearn module."
   ]
  },
  {
   "cell_type": "code",
   "execution_count": 12,
   "id": "danish-approach",
   "metadata": {
    "scrolled": true
   },
   "outputs": [
    {
     "name": "stderr",
     "output_type": "stream",
     "text": [
      "c:\\users\\91971\\appdata\\local\\programs\\python\\python39\\lib\\site-packages\\sklearn\\base.py:441: UserWarning: X does not have valid feature names, but StandardScaler was fitted with feature names\n",
      "  warnings.warn(\n"
     ]
    }
   ],
   "source": [
    "from sklearn.preprocessing import StandardScaler\n",
    "sc=StandardScaler()\n",
    "miss_train_X=sc.fit_transform(miss_train_X)\n",
    "miss_train_y=np.array(miss_train_y).reshape(-1,1)\n",
    "miss_train_y=sc.fit_transform(miss_train_y)\n",
    "\n"
   ]
  },
  {
   "cell_type": "markdown",
   "id": "legislative-turkish",
   "metadata": {},
   "source": [
    "We had to reshape the `miss_train_y` to fit StandardScaler to it."
   ]
  },
  {
   "cell_type": "markdown",
   "id": "seeing-nightlife",
   "metadata": {},
   "source": [
    "Remember we checked the shape of the `miss_train_y`, here we are using it to again reshape in the same shape as before."
   ]
  },
  {
   "cell_type": "code",
   "execution_count": 13,
   "id": "early-lawsuit",
   "metadata": {},
   "outputs": [],
   "source": [
    "miss_train_y = miss_train_y.reshape(20433,)"
   ]
  },
  {
   "cell_type": "markdown",
   "id": "robust-enhancement",
   "metadata": {},
   "source": [
    "Finally We have everything ready, we are now going to train our `LinearRegression` model to predict the missing values."
   ]
  },
  {
   "cell_type": "code",
   "execution_count": 14,
   "id": "complete-royalty",
   "metadata": {},
   "outputs": [
    {
     "data": {
      "text/plain": [
       "LinearRegression()"
      ]
     },
     "execution_count": 14,
     "metadata": {},
     "output_type": "execute_result"
    }
   ],
   "source": [
    "from sklearn.linear_model import LinearRegression\n",
    "lr=LinearRegression()\n",
    "lr.fit(miss_train_X,miss_train_y)"
   ]
  },
  {
   "cell_type": "markdown",
   "id": "outer-portrait",
   "metadata": {},
   "source": [
    "Our `LinearRegression` model is trained and ready to predict.So we are going to predict the null values using `miss_test`."
   ]
  },
  {
   "cell_type": "code",
   "execution_count": 15,
   "id": "peaceful-heater",
   "metadata": {},
   "outputs": [],
   "source": [
    "miss_test=sc.fit_transform(miss_test)"
   ]
  },
  {
   "cell_type": "code",
   "execution_count": 16,
   "id": "suburban-effort",
   "metadata": {},
   "outputs": [
    {
     "data": {
      "text/plain": [
       "array([-0.82029618, -0.67321497,  1.80795725, -1.01623112, -0.97114937,\n",
       "        0.11934179,  0.32695463,  1.33423326,  0.12663487,  0.06130956,\n",
       "        0.34942273, -0.39172463,  2.04291221,  1.20191274,  0.21735752,\n",
       "       -0.67432527, -0.56514411, -0.68968574, -0.67836618,  0.52741811,\n",
       "       -0.63280758, -1.13501513, -1.60069279,  0.2174317 , -0.29186761,\n",
       "        1.22294385,  0.54956749,  0.10972229,  2.1481604 ,  0.08463903,\n",
       "        0.59944232,  2.54553891,  2.0093496 , -0.28568523,  0.19091265,\n",
       "       -0.90219925,  0.06624299, -0.62492362, -0.55548732,  0.4799312 ,\n",
       "       -0.33960126, -0.27015199, -0.6228606 ,  1.2528246 ,  0.26166591,\n",
       "        2.07022877, -0.27649702,  0.04865315, -0.91346044, -0.58066797,\n",
       "       -0.02281894, -0.61419581, -0.59528694,  0.72680343, -0.69691784,\n",
       "       -0.08547907, -0.62521254, -0.24060638,  0.66804357, -0.14682886,\n",
       "       -0.4902318 , -0.53742258,  0.12154837, -0.45020848,  0.62431018,\n",
       "        0.00928124, -0.0748072 , -0.31175977,  1.76051056, -0.0944552 ,\n",
       "       -0.7149714 , -1.31181302,  1.22613916,  0.20905549, -0.41784757,\n",
       "        0.18665364, -0.77839474, -1.01001532, -0.28612922, -0.32569027,\n",
       "        1.4694915 , -0.82285642, -0.71261465,  0.28594659, -0.66440434,\n",
       "       -0.99632064, -0.81967024, -0.62058336,  1.002635  , -0.55841465,\n",
       "       -0.9242534 ,  2.90038764, -0.91908343, -0.58103815, -1.02359577,\n",
       "       -0.18766857, -0.34671999, -1.14003138, -1.09454609, -0.08997583,\n",
       "       -0.09461304, -0.59510185, -0.34529772,  0.86887377,  0.09606313,\n",
       "       -0.75375675,  0.06050635, -0.96476061,  0.3210322 , -0.11209453,\n",
       "       -0.40784085, -0.67718766,  1.20392669,  1.18300859,  0.35786375,\n",
       "        0.04017085, -0.8062615 ,  2.04463779, -0.7839423 ,  0.16658012,\n",
       "       -0.58789475,  0.65359849, -0.37103   ,  0.89536317,  0.31151058,\n",
       "       -0.36881804, -1.01629132, -0.13910226,  0.16056856, -0.73797464,\n",
       "        0.03154053,  0.55847071, -0.72625021,  0.2440286 , -0.29558077,\n",
       "       -1.01498236, -0.02987651, -0.19676116, -0.54443075,  0.41593539,\n",
       "       -0.69282157, -1.10504396,  0.48593611, -0.2635218 ,  0.02370776,\n",
       "        0.49214853, -0.69920722,  1.07642289,  0.89205698, -0.74764019,\n",
       "       -1.03253979,  1.19541772, -1.06044498,  0.27443574, -0.35049279,\n",
       "       -0.2586261 , -0.54375781, -0.4303174 , -0.61675071,  2.26826186,\n",
       "       -0.96485942,  0.63756128,  0.0124025 ,  0.7234437 ,  0.18494821,\n",
       "       -0.2652826 ,  0.16306502,  2.27180035, -0.45883457, -0.36839385,\n",
       "        0.43499062,  0.97644693, -0.70573382,  0.12780456, -0.92167511,\n",
       "        1.43254811,  7.39430906, -0.0532749 , -0.78040664,  0.01520266,\n",
       "        0.67556934, -0.56554127,  0.06860456,  0.74061097, -0.26614738,\n",
       "        2.37292742, -0.46383659, -1.03139977,  0.17921658, -0.55901167,\n",
       "       -0.51182907, -1.13556419, -0.58818474,  0.0521508 , -0.91809737,\n",
       "       -0.59303704, -0.57155627,  0.02288061, -0.72327814, -0.38978699,\n",
       "       -1.02967635, -0.45183669,  0.60180984,  0.54174697,  0.58612588,\n",
       "        0.88388681, -0.05245195])"
      ]
     },
     "execution_count": 16,
     "metadata": {},
     "output_type": "execute_result"
    }
   ],
   "source": [
    "missing_bedrooms=lr.predict(miss_test)\n",
    "missing_bedrooms"
   ]
  },
  {
   "cell_type": "markdown",
   "id": "allied-trial",
   "metadata": {},
   "source": [
    "We have the missing values!😃\n",
    "\n",
    "But wait how are we going to put the missing values in our original DataFrame `ds`?\n",
    "\n",
    "For that we will be using a Dictionary."
   ]
  },
  {
   "cell_type": "markdown",
   "id": "musical-equipment",
   "metadata": {},
   "source": [
    ">**If you don't know how can we fill the missing values using dictionary, here is a small explanation:**\n",
    "When filling missing values using a dictionary,it will match the key of the dictionary and the index of the missing values, if it finds the same key as the index of one of the missing value, it will fill the missing value with the value corresponding to the key. The keys act like indices and the values act like the values we want to put in the missing places.\n",
    ">>    for example:\n",
    "       if dict={1:'a',5:'e',8:'f'}\n",
    "     and we want to will fill the missing values in indices 1,5, and 8, it will fill the values but if the keys of              dictionary and the indices of the mising values does not match, it will only fill the values for which it  is         matching.\n",
    "     "
   ]
  },
  {
   "cell_type": "markdown",
   "id": "julian-butter",
   "metadata": {},
   "source": [
    "Now we need to have the index of the missing values in order to fill the missing values"
   ]
  },
  {
   "cell_type": "code",
   "execution_count": 17,
   "id": "civilian-stamp",
   "metadata": {},
   "outputs": [],
   "source": [
    "index_of_missing=list(ds[ds.total_bedrooms.isnull()].reset_index()['index'])"
   ]
  },
  {
   "cell_type": "markdown",
   "id": "religious-flash",
   "metadata": {},
   "source": [
    "We are creating a Dictionary using for loop which has all the values with the keys as there index in original DataFrame `ds`"
   ]
  },
  {
   "cell_type": "code",
   "execution_count": 18,
   "id": "homeless-shadow",
   "metadata": {
    "scrolled": true
   },
   "outputs": [
    {
     "name": "stdout",
     "output_type": "stream",
     "text": [
      "{290: -0.8202961844680018, 341: -0.6732149665403149, 538: 1.8079572517599483, 563: -1.016231120578889, 696: -0.9711493672776927, 738: 0.11934178594944533, 1097: 0.3269546270165521, 1350: 1.3342332591900763, 1456: 0.1266348721186397, 1493: 0.06130956196670897, 1606: 0.3494227304487266, 2028: -0.39172463022736087, 2115: 2.042912213085495, 2301: 1.2019127372433966, 2323: 0.2173575161133071, 2334: -0.6743252674488714, 2351: -0.5651441125434906, 2412: -0.6896857442394286, 2420: -0.678366184932733, 2578: 0.5274181050798665, 2608: -0.6328075829899218, 2647: -1.135015126424196, 2826: -1.6006927869131449, 3024: 0.21743169503060933, 3328: -0.2918676108378124, 3354: 1.2229438467907054, 3376: 0.5495674926722361, 3482: 0.109722291274449, 3485: 2.148160395243477, 3529: 0.08463902724995781, 3721: 0.5994423159966132, 3778: 2.545538908531226, 3912: 2.0093495992715167, 3921: -0.2856852255768136, 3958: 0.19091265006446728, 4043: -0.9021992471058263, 4046: 0.0662429903960703, 4186: -0.6249236178733405, 4279: -0.5554873191893864, 4309: 0.4799312026580373, 4391: -0.3396012573896344, 4447: -0.2701519926957051, 4496: -0.6228606023474424, 4591: 1.252824595402809, 4600: 0.2616659119831178, 4629: 2.0702287713435212, 4667: -0.2764970197118851, 4691: 0.04865314552064438, 4738: -0.9134604386553827, 4743: -0.5806679664968285, 4744: -0.02281893801405442, 4767: -0.6141958061937006, 4852: -0.5952869380031834, 5059: 0.7268034299151498, 5216: -0.6969178400444396, 5222: -0.08547907140101228, 5236: -0.6252125388905881, 5654: -0.24060637877511687, 5665: 0.6680435746551322, 5678: -0.1468288627364096, 5723: -0.49023179734504824, 5751: -0.5374225792741171, 5990: 0.12154837033363462, 6052: -0.45020848378328004, 6068: 0.6243101763914979, 6220: 0.00928124247886574, 6241: -0.07480719829355549, 6253: -0.3117597708206996, 6298: 1.7605105627074518, 6421: -0.09445520360792257, 6541: -0.7149713988756748, 6590: -1.3118130241471673, 6814: 1.2261391552456258, 6835: 0.2090554909696623, 6962: -0.41784757200177447, 7097: 0.18665363912909055, 7113: -0.7783947441006333, 7168: -1.0100153159942882, 7191: -0.2861292158367358, 7228: -0.3256902727538802, 7316: 1.4694914983696412, 7330: -0.8228564152537842, 7547: -0.7126146491806246, 7654: 0.2859465883110033, 7668: -0.6644043447112599, 7763: -0.9963206358230258, 7806: -0.8196702379659769, 8337: -0.6205833581997275, 8383: 1.002635003725581, 8530: -0.5584146497598509, 8915: -0.9242533987522769, 9149: 2.900387636943421, 9571: -0.9190834331060367, 9620: -0.5810381539089016, 9622: -1.0235957712006019, 9814: -0.18766856755295333, 9845: -0.34671999268663933, 9877: -1.1400313788783318, 9942: -1.0945460868514596, 9970: -0.08997583419089954, 10033: -0.0946130368027649, 10216: -0.5951018519770362, 10236: -0.3452977170004984, 10385: 0.8688737685997671, 10389: 0.09606312862955334, 10428: -0.7537567501587384, 10495: 0.06050634770196065, 10761: -0.9647606098364828, 10885: 0.321032201843923, 10915: -0.1120945254529331, 11096: -0.40784084774242224, 11311: -0.6771876575591006, 11351: 1.2039266942133042, 11441: 1.1830085909123538, 11449: 0.35786375382951224, 11512: 0.04017084511222549, 11741: -0.806261497121604, 12101: 2.044637786853855, 12414: -0.7839423026024783, 12570: 0.16658012128913646, 12809: -0.5878947475595295, 13015: 0.6535984919419514, 13069: -0.37103000241350514, 13311: 0.8953631715156033, 13332: 0.3115105802333416, 13336: -0.3688180441549095, 13597: -1.0162913249411711, 13656: -0.13910225792978115, 13706: 0.16056855592271854, 13925: -0.7379746400018148, 13932: 0.03154052813869088, 13933: 0.5584707053420903, 14015: -0.726250212764109, 14152: 0.24402859893360773, 14173: -0.2955807748327922, 14307: -1.014982363015104, 14331: -0.02987650571332735, 14386: -0.1967611612415853, 14462: -0.5444307542580121, 14521: 0.41593539094042165, 14641: -0.6928215694379998, 14930: -1.1050439635622884, 14970: 0.48593610577303104, 14986: -0.26352180270107817, 15030: 0.023707763512962554, 15060: 0.4921485282976209, 15118: -0.6992072178063119, 15137: 1.0764228889310552, 15397: 0.8920569812398801, 15479: -0.7476401879507093, 15607: -1.032539790055821, 15663: 1.1954177233449512, 15890: -1.0604449805780167, 15975: 0.27443574385896663, 16025: -0.350492792133605, 16038: -0.25862609985952933, 16104: -0.5437578057934641, 16105: -0.4303173994877611, 16330: -0.6167507063065063, 16757: 2.268261861737626, 16879: -0.9648594199684797, 16880: 0.6375612802562903, 16885: 0.012402500067816655, 17041: 0.723443700909318, 17198: 0.18494821492117577, 17202: -0.26528260419611793, 17639: 0.16306502384729255, 17825: 2.2718003524270785, 17840: -0.45883456700790987, 17923: -0.36839384717578905, 17928: 0.4349906182992661, 17973: 0.9764469310566922, 18177: -0.7057338208628411, 18246: 0.1278045584238327, 18261: -0.9216751074324478, 18332: 1.4325481143928323, 18346: 7.394309059467549, 18466: -0.05327489719157768, 18786: -0.7804066448786109, 18873: 0.015202655420204391, 18914: 0.675569341015826, 19060: -0.5655412741503302, 19071: 0.06860455639793066, 19122: 0.7406109746806394, 19150: -0.2661473786811669, 19252: 2.372927416814231, 19332: -0.46383658919739307, 19391: -1.0313997721492507, 19402: 0.17921658290449805, 19485: -0.5590116743204084, 19559: -0.5118290744362617, 19607: -1.1355641926429756, 19638: -0.5881847362638832, 19766: 0.052150804074596394, 19818: -0.9180973692355706, 19833: -0.5930370396397074, 19890: -0.5715562735428242, 19932: 0.022880613582396844, 19959: -0.7232781409299162, 20046: -0.38978699129941663, 20069: -1.02967634635425, 20125: -0.45183668832115875, 20267: 0.6018098401436537, 20268: 0.5417469719856881, 20372: 0.5861258824511051, 20460: 0.8838868118237846, 20484: -0.05245195058034051}\n"
     ]
    }
   ],
   "source": [
    "miss_bedrooms_dict={}\n",
    "for i in index_of_missing:\n",
    "        miss_bedrooms_dict[i] = missing_bedrooms[index_of_missing.index(i)]\n",
    "print(miss_bedrooms_dict)"
   ]
  },
  {
   "cell_type": "markdown",
   "id": "neither-quarterly",
   "metadata": {},
   "source": [
    "We have the dictionary `miss_bedrooms_dict`, We can fill the missing values, But before that we have to scale down the features in ds, because we have missing values already scaled down."
   ]
  },
  {
   "cell_type": "code",
   "execution_count": 19,
   "id": "incorrect-grass",
   "metadata": {},
   "outputs": [
    {
     "data": {
      "text/html": [
       "<div>\n",
       "<style scoped>\n",
       "    .dataframe tbody tr th:only-of-type {\n",
       "        vertical-align: middle;\n",
       "    }\n",
       "\n",
       "    .dataframe tbody tr th {\n",
       "        vertical-align: top;\n",
       "    }\n",
       "\n",
       "    .dataframe thead th {\n",
       "        text-align: right;\n",
       "    }\n",
       "</style>\n",
       "<table border=\"1\" class=\"dataframe\">\n",
       "  <thead>\n",
       "    <tr style=\"text-align: right;\">\n",
       "      <th></th>\n",
       "      <th>longitude</th>\n",
       "      <th>latitude</th>\n",
       "      <th>housing_median_age</th>\n",
       "      <th>total_rooms</th>\n",
       "      <th>total_bedrooms</th>\n",
       "      <th>population</th>\n",
       "      <th>households</th>\n",
       "      <th>median_income</th>\n",
       "      <th>median_house_value</th>\n",
       "      <th>ocean_proximity</th>\n",
       "    </tr>\n",
       "  </thead>\n",
       "  <tbody>\n",
       "    <tr>\n",
       "      <th>0</th>\n",
       "      <td>-1.327835</td>\n",
       "      <td>1.052548</td>\n",
       "      <td>0.982143</td>\n",
       "      <td>-0.804819</td>\n",
       "      <td>-0.970325</td>\n",
       "      <td>-0.974429</td>\n",
       "      <td>-0.977033</td>\n",
       "      <td>2.344766</td>\n",
       "      <td>2.129631</td>\n",
       "      <td>1.291089</td>\n",
       "    </tr>\n",
       "    <tr>\n",
       "      <th>1</th>\n",
       "      <td>-1.322844</td>\n",
       "      <td>1.043185</td>\n",
       "      <td>-0.607019</td>\n",
       "      <td>2.045890</td>\n",
       "      <td>1.348276</td>\n",
       "      <td>0.861439</td>\n",
       "      <td>1.669961</td>\n",
       "      <td>2.332238</td>\n",
       "      <td>1.314156</td>\n",
       "      <td>1.291089</td>\n",
       "    </tr>\n",
       "    <tr>\n",
       "      <th>2</th>\n",
       "      <td>-1.332827</td>\n",
       "      <td>1.038503</td>\n",
       "      <td>1.856182</td>\n",
       "      <td>-0.535746</td>\n",
       "      <td>-0.825561</td>\n",
       "      <td>-0.820777</td>\n",
       "      <td>-0.843637</td>\n",
       "      <td>1.782699</td>\n",
       "      <td>1.258693</td>\n",
       "      <td>1.291089</td>\n",
       "    </tr>\n",
       "    <tr>\n",
       "      <th>3</th>\n",
       "      <td>-1.337818</td>\n",
       "      <td>1.038503</td>\n",
       "      <td>1.856182</td>\n",
       "      <td>-0.624215</td>\n",
       "      <td>-0.718768</td>\n",
       "      <td>-0.766028</td>\n",
       "      <td>-0.733781</td>\n",
       "      <td>0.932968</td>\n",
       "      <td>1.165100</td>\n",
       "      <td>1.291089</td>\n",
       "    </tr>\n",
       "    <tr>\n",
       "      <th>4</th>\n",
       "      <td>-1.337818</td>\n",
       "      <td>1.038503</td>\n",
       "      <td>1.856182</td>\n",
       "      <td>-0.462404</td>\n",
       "      <td>-0.611974</td>\n",
       "      <td>-0.759847</td>\n",
       "      <td>-0.629157</td>\n",
       "      <td>-0.012881</td>\n",
       "      <td>1.172900</td>\n",
       "      <td>1.291089</td>\n",
       "    </tr>\n",
       "    <tr>\n",
       "      <th>...</th>\n",
       "      <td>...</td>\n",
       "      <td>...</td>\n",
       "      <td>...</td>\n",
       "      <td>...</td>\n",
       "      <td>...</td>\n",
       "      <td>...</td>\n",
       "      <td>...</td>\n",
       "      <td>...</td>\n",
       "      <td>...</td>\n",
       "      <td>...</td>\n",
       "    </tr>\n",
       "    <tr>\n",
       "      <th>20635</th>\n",
       "      <td>-0.758826</td>\n",
       "      <td>1.801647</td>\n",
       "      <td>-0.289187</td>\n",
       "      <td>-0.444985</td>\n",
       "      <td>-0.388895</td>\n",
       "      <td>-0.512592</td>\n",
       "      <td>-0.443449</td>\n",
       "      <td>-1.216128</td>\n",
       "      <td>-1.115804</td>\n",
       "      <td>-0.116739</td>\n",
       "    </tr>\n",
       "    <tr>\n",
       "      <th>20636</th>\n",
       "      <td>-0.818722</td>\n",
       "      <td>1.806329</td>\n",
       "      <td>-0.845393</td>\n",
       "      <td>-0.888704</td>\n",
       "      <td>-0.920488</td>\n",
       "      <td>-0.944405</td>\n",
       "      <td>-1.008420</td>\n",
       "      <td>-0.691593</td>\n",
       "      <td>-1.124470</td>\n",
       "      <td>-0.116739</td>\n",
       "    </tr>\n",
       "    <tr>\n",
       "      <th>20637</th>\n",
       "      <td>-0.823713</td>\n",
       "      <td>1.778237</td>\n",
       "      <td>-0.924851</td>\n",
       "      <td>-0.174995</td>\n",
       "      <td>-0.125472</td>\n",
       "      <td>-0.369537</td>\n",
       "      <td>-0.174042</td>\n",
       "      <td>-1.142593</td>\n",
       "      <td>-0.992746</td>\n",
       "      <td>-0.116739</td>\n",
       "    </tr>\n",
       "    <tr>\n",
       "      <th>20638</th>\n",
       "      <td>-0.873626</td>\n",
       "      <td>1.778237</td>\n",
       "      <td>-0.845393</td>\n",
       "      <td>-0.355600</td>\n",
       "      <td>-0.305834</td>\n",
       "      <td>-0.604429</td>\n",
       "      <td>-0.393753</td>\n",
       "      <td>-1.054583</td>\n",
       "      <td>-1.058608</td>\n",
       "      <td>-0.116739</td>\n",
       "    </tr>\n",
       "    <tr>\n",
       "      <th>20639</th>\n",
       "      <td>-0.833696</td>\n",
       "      <td>1.750146</td>\n",
       "      <td>-1.004309</td>\n",
       "      <td>0.068408</td>\n",
       "      <td>0.185416</td>\n",
       "      <td>-0.033977</td>\n",
       "      <td>0.079672</td>\n",
       "      <td>-0.780129</td>\n",
       "      <td>-1.017878</td>\n",
       "      <td>-0.116739</td>\n",
       "    </tr>\n",
       "  </tbody>\n",
       "</table>\n",
       "<p>20640 rows × 10 columns</p>\n",
       "</div>"
      ],
      "text/plain": [
       "       longitude  latitude  housing_median_age  total_rooms  total_bedrooms  \\\n",
       "0      -1.327835  1.052548            0.982143    -0.804819       -0.970325   \n",
       "1      -1.322844  1.043185           -0.607019     2.045890        1.348276   \n",
       "2      -1.332827  1.038503            1.856182    -0.535746       -0.825561   \n",
       "3      -1.337818  1.038503            1.856182    -0.624215       -0.718768   \n",
       "4      -1.337818  1.038503            1.856182    -0.462404       -0.611974   \n",
       "...          ...       ...                 ...          ...             ...   \n",
       "20635  -0.758826  1.801647           -0.289187    -0.444985       -0.388895   \n",
       "20636  -0.818722  1.806329           -0.845393    -0.888704       -0.920488   \n",
       "20637  -0.823713  1.778237           -0.924851    -0.174995       -0.125472   \n",
       "20638  -0.873626  1.778237           -0.845393    -0.355600       -0.305834   \n",
       "20639  -0.833696  1.750146           -1.004309     0.068408        0.185416   \n",
       "\n",
       "       population  households  median_income  median_house_value  \\\n",
       "0       -0.974429   -0.977033       2.344766            2.129631   \n",
       "1        0.861439    1.669961       2.332238            1.314156   \n",
       "2       -0.820777   -0.843637       1.782699            1.258693   \n",
       "3       -0.766028   -0.733781       0.932968            1.165100   \n",
       "4       -0.759847   -0.629157      -0.012881            1.172900   \n",
       "...           ...         ...            ...                 ...   \n",
       "20635   -0.512592   -0.443449      -1.216128           -1.115804   \n",
       "20636   -0.944405   -1.008420      -0.691593           -1.124470   \n",
       "20637   -0.369537   -0.174042      -1.142593           -0.992746   \n",
       "20638   -0.604429   -0.393753      -1.054583           -1.058608   \n",
       "20639   -0.033977    0.079672      -0.780129           -1.017878   \n",
       "\n",
       "       ocean_proximity  \n",
       "0             1.291089  \n",
       "1             1.291089  \n",
       "2             1.291089  \n",
       "3             1.291089  \n",
       "4             1.291089  \n",
       "...                ...  \n",
       "20635        -0.116739  \n",
       "20636        -0.116739  \n",
       "20637        -0.116739  \n",
       "20638        -0.116739  \n",
       "20639        -0.116739  \n",
       "\n",
       "[20640 rows x 10 columns]"
      ]
     },
     "execution_count": 19,
     "metadata": {},
     "output_type": "execute_result"
    }
   ],
   "source": [
    "ds=sc.fit_transform(ds)\n",
    "ds=pd.DataFrame(ds,columns=['longitude','latitude','housing_median_age','total_rooms','total_bedrooms','population','households','median_income','median_house_value','ocean_proximity'])\n",
    "ds"
   ]
  },
  {
   "cell_type": "markdown",
   "id": "intense-stopping",
   "metadata": {},
   "source": [
    "Finally filling the missing values using the Dictionary `miss_bedrooms_dict`."
   ]
  },
  {
   "cell_type": "code",
   "execution_count": 20,
   "id": "extreme-assault",
   "metadata": {
    "scrolled": false
   },
   "outputs": [
    {
     "data": {
      "text/html": [
       "<div>\n",
       "<style scoped>\n",
       "    .dataframe tbody tr th:only-of-type {\n",
       "        vertical-align: middle;\n",
       "    }\n",
       "\n",
       "    .dataframe tbody tr th {\n",
       "        vertical-align: top;\n",
       "    }\n",
       "\n",
       "    .dataframe thead th {\n",
       "        text-align: right;\n",
       "    }\n",
       "</style>\n",
       "<table border=\"1\" class=\"dataframe\">\n",
       "  <thead>\n",
       "    <tr style=\"text-align: right;\">\n",
       "      <th></th>\n",
       "      <th>longitude</th>\n",
       "      <th>latitude</th>\n",
       "      <th>housing_median_age</th>\n",
       "      <th>total_rooms</th>\n",
       "      <th>total_bedrooms</th>\n",
       "      <th>population</th>\n",
       "      <th>households</th>\n",
       "      <th>median_income</th>\n",
       "      <th>median_house_value</th>\n",
       "      <th>ocean_proximity</th>\n",
       "    </tr>\n",
       "  </thead>\n",
       "  <tbody>\n",
       "    <tr>\n",
       "      <th>0</th>\n",
       "      <td>-1.327835</td>\n",
       "      <td>1.052548</td>\n",
       "      <td>0.982143</td>\n",
       "      <td>-0.804819</td>\n",
       "      <td>-0.970325</td>\n",
       "      <td>-0.974429</td>\n",
       "      <td>-0.977033</td>\n",
       "      <td>2.344766</td>\n",
       "      <td>2.129631</td>\n",
       "      <td>1.291089</td>\n",
       "    </tr>\n",
       "    <tr>\n",
       "      <th>1</th>\n",
       "      <td>-1.322844</td>\n",
       "      <td>1.043185</td>\n",
       "      <td>-0.607019</td>\n",
       "      <td>2.045890</td>\n",
       "      <td>1.348276</td>\n",
       "      <td>0.861439</td>\n",
       "      <td>1.669961</td>\n",
       "      <td>2.332238</td>\n",
       "      <td>1.314156</td>\n",
       "      <td>1.291089</td>\n",
       "    </tr>\n",
       "    <tr>\n",
       "      <th>2</th>\n",
       "      <td>-1.332827</td>\n",
       "      <td>1.038503</td>\n",
       "      <td>1.856182</td>\n",
       "      <td>-0.535746</td>\n",
       "      <td>-0.825561</td>\n",
       "      <td>-0.820777</td>\n",
       "      <td>-0.843637</td>\n",
       "      <td>1.782699</td>\n",
       "      <td>1.258693</td>\n",
       "      <td>1.291089</td>\n",
       "    </tr>\n",
       "    <tr>\n",
       "      <th>3</th>\n",
       "      <td>-1.337818</td>\n",
       "      <td>1.038503</td>\n",
       "      <td>1.856182</td>\n",
       "      <td>-0.624215</td>\n",
       "      <td>-0.718768</td>\n",
       "      <td>-0.766028</td>\n",
       "      <td>-0.733781</td>\n",
       "      <td>0.932968</td>\n",
       "      <td>1.165100</td>\n",
       "      <td>1.291089</td>\n",
       "    </tr>\n",
       "    <tr>\n",
       "      <th>4</th>\n",
       "      <td>-1.337818</td>\n",
       "      <td>1.038503</td>\n",
       "      <td>1.856182</td>\n",
       "      <td>-0.462404</td>\n",
       "      <td>-0.611974</td>\n",
       "      <td>-0.759847</td>\n",
       "      <td>-0.629157</td>\n",
       "      <td>-0.012881</td>\n",
       "      <td>1.172900</td>\n",
       "      <td>1.291089</td>\n",
       "    </tr>\n",
       "    <tr>\n",
       "      <th>...</th>\n",
       "      <td>...</td>\n",
       "      <td>...</td>\n",
       "      <td>...</td>\n",
       "      <td>...</td>\n",
       "      <td>...</td>\n",
       "      <td>...</td>\n",
       "      <td>...</td>\n",
       "      <td>...</td>\n",
       "      <td>...</td>\n",
       "      <td>...</td>\n",
       "    </tr>\n",
       "    <tr>\n",
       "      <th>20635</th>\n",
       "      <td>-0.758826</td>\n",
       "      <td>1.801647</td>\n",
       "      <td>-0.289187</td>\n",
       "      <td>-0.444985</td>\n",
       "      <td>-0.388895</td>\n",
       "      <td>-0.512592</td>\n",
       "      <td>-0.443449</td>\n",
       "      <td>-1.216128</td>\n",
       "      <td>-1.115804</td>\n",
       "      <td>-0.116739</td>\n",
       "    </tr>\n",
       "    <tr>\n",
       "      <th>20636</th>\n",
       "      <td>-0.818722</td>\n",
       "      <td>1.806329</td>\n",
       "      <td>-0.845393</td>\n",
       "      <td>-0.888704</td>\n",
       "      <td>-0.920488</td>\n",
       "      <td>-0.944405</td>\n",
       "      <td>-1.008420</td>\n",
       "      <td>-0.691593</td>\n",
       "      <td>-1.124470</td>\n",
       "      <td>-0.116739</td>\n",
       "    </tr>\n",
       "    <tr>\n",
       "      <th>20637</th>\n",
       "      <td>-0.823713</td>\n",
       "      <td>1.778237</td>\n",
       "      <td>-0.924851</td>\n",
       "      <td>-0.174995</td>\n",
       "      <td>-0.125472</td>\n",
       "      <td>-0.369537</td>\n",
       "      <td>-0.174042</td>\n",
       "      <td>-1.142593</td>\n",
       "      <td>-0.992746</td>\n",
       "      <td>-0.116739</td>\n",
       "    </tr>\n",
       "    <tr>\n",
       "      <th>20638</th>\n",
       "      <td>-0.873626</td>\n",
       "      <td>1.778237</td>\n",
       "      <td>-0.845393</td>\n",
       "      <td>-0.355600</td>\n",
       "      <td>-0.305834</td>\n",
       "      <td>-0.604429</td>\n",
       "      <td>-0.393753</td>\n",
       "      <td>-1.054583</td>\n",
       "      <td>-1.058608</td>\n",
       "      <td>-0.116739</td>\n",
       "    </tr>\n",
       "    <tr>\n",
       "      <th>20639</th>\n",
       "      <td>-0.833696</td>\n",
       "      <td>1.750146</td>\n",
       "      <td>-1.004309</td>\n",
       "      <td>0.068408</td>\n",
       "      <td>0.185416</td>\n",
       "      <td>-0.033977</td>\n",
       "      <td>0.079672</td>\n",
       "      <td>-0.780129</td>\n",
       "      <td>-1.017878</td>\n",
       "      <td>-0.116739</td>\n",
       "    </tr>\n",
       "  </tbody>\n",
       "</table>\n",
       "<p>20640 rows × 10 columns</p>\n",
       "</div>"
      ],
      "text/plain": [
       "       longitude  latitude  housing_median_age  total_rooms  total_bedrooms  \\\n",
       "0      -1.327835  1.052548            0.982143    -0.804819       -0.970325   \n",
       "1      -1.322844  1.043185           -0.607019     2.045890        1.348276   \n",
       "2      -1.332827  1.038503            1.856182    -0.535746       -0.825561   \n",
       "3      -1.337818  1.038503            1.856182    -0.624215       -0.718768   \n",
       "4      -1.337818  1.038503            1.856182    -0.462404       -0.611974   \n",
       "...          ...       ...                 ...          ...             ...   \n",
       "20635  -0.758826  1.801647           -0.289187    -0.444985       -0.388895   \n",
       "20636  -0.818722  1.806329           -0.845393    -0.888704       -0.920488   \n",
       "20637  -0.823713  1.778237           -0.924851    -0.174995       -0.125472   \n",
       "20638  -0.873626  1.778237           -0.845393    -0.355600       -0.305834   \n",
       "20639  -0.833696  1.750146           -1.004309     0.068408        0.185416   \n",
       "\n",
       "       population  households  median_income  median_house_value  \\\n",
       "0       -0.974429   -0.977033       2.344766            2.129631   \n",
       "1        0.861439    1.669961       2.332238            1.314156   \n",
       "2       -0.820777   -0.843637       1.782699            1.258693   \n",
       "3       -0.766028   -0.733781       0.932968            1.165100   \n",
       "4       -0.759847   -0.629157      -0.012881            1.172900   \n",
       "...           ...         ...            ...                 ...   \n",
       "20635   -0.512592   -0.443449      -1.216128           -1.115804   \n",
       "20636   -0.944405   -1.008420      -0.691593           -1.124470   \n",
       "20637   -0.369537   -0.174042      -1.142593           -0.992746   \n",
       "20638   -0.604429   -0.393753      -1.054583           -1.058608   \n",
       "20639   -0.033977    0.079672      -0.780129           -1.017878   \n",
       "\n",
       "       ocean_proximity  \n",
       "0             1.291089  \n",
       "1             1.291089  \n",
       "2             1.291089  \n",
       "3             1.291089  \n",
       "4             1.291089  \n",
       "...                ...  \n",
       "20635        -0.116739  \n",
       "20636        -0.116739  \n",
       "20637        -0.116739  \n",
       "20638        -0.116739  \n",
       "20639        -0.116739  \n",
       "\n",
       "[20640 rows x 10 columns]"
      ]
     },
     "execution_count": 20,
     "metadata": {},
     "output_type": "execute_result"
    }
   ],
   "source": [
    "ds['total_bedrooms']=ds['total_bedrooms'].fillna(miss_bedrooms_dict)\n",
    "ds"
   ]
  },
  {
   "cell_type": "markdown",
   "id": "cloudy-interview",
   "metadata": {},
   "source": [
    "Now to visualize the missing values one more time we can plot the matrix as shown below, and there are no missing values."
   ]
  },
  {
   "cell_type": "code",
   "execution_count": 21,
   "id": "advanced-worry",
   "metadata": {},
   "outputs": [
    {
     "data": {
      "text/plain": [
       "<AxesSubplot:>"
      ]
     },
     "execution_count": 21,
     "metadata": {},
     "output_type": "execute_result"
    },
    {
     "data": {
      "image/png": "[encoded data removed]",
      "text/plain": [
       "<Figure size 1440x432 with 2 Axes>"
      ]
     },
     "metadata": {
      "needs_background": "light"
     },
     "output_type": "display_data"
    }
   ],
   "source": [
    "mno.matrix(ds, figsize = (20, 6))"
   ]
  },
  {
   "cell_type": "markdown",
   "id": "boolean-neighbor",
   "metadata": {},
   "source": [
    "## Training the LinearRegression model for `median_house_value`"
   ]
  },
  {
   "cell_type": "markdown",
   "id": "italic-boxing",
   "metadata": {},
   "source": [
    "Seperating **X** (Independent features) and **y**(Dependent Feature) "
   ]
  },
  {
   "cell_type": "code",
   "execution_count": 22,
   "id": "distant-specialist",
   "metadata": {
    "scrolled": true
   },
   "outputs": [
    {
     "data": {
      "text/html": [
       "<div>\n",
       "<style scoped>\n",
       "    .dataframe tbody tr th:only-of-type {\n",
       "        vertical-align: middle;\n",
       "    }\n",
       "\n",
       "    .dataframe tbody tr th {\n",
       "        vertical-align: top;\n",
       "    }\n",
       "\n",
       "    .dataframe thead th {\n",
       "        text-align: right;\n",
       "    }\n",
       "</style>\n",
       "<table border=\"1\" class=\"dataframe\">\n",
       "  <thead>\n",
       "    <tr style=\"text-align: right;\">\n",
       "      <th></th>\n",
       "      <th>longitude</th>\n",
       "      <th>latitude</th>\n",
       "      <th>housing_median_age</th>\n",
       "      <th>total_rooms</th>\n",
       "      <th>total_bedrooms</th>\n",
       "      <th>population</th>\n",
       "      <th>households</th>\n",
       "      <th>median_income</th>\n",
       "      <th>ocean_proximity</th>\n",
       "    </tr>\n",
       "  </thead>\n",
       "  <tbody>\n",
       "    <tr>\n",
       "      <th>0</th>\n",
       "      <td>-1.327835</td>\n",
       "      <td>1.052548</td>\n",
       "      <td>0.982143</td>\n",
       "      <td>-0.804819</td>\n",
       "      <td>-0.970325</td>\n",
       "      <td>-0.974429</td>\n",
       "      <td>-0.977033</td>\n",
       "      <td>2.344766</td>\n",
       "      <td>1.291089</td>\n",
       "    </tr>\n",
       "    <tr>\n",
       "      <th>1</th>\n",
       "      <td>-1.322844</td>\n",
       "      <td>1.043185</td>\n",
       "      <td>-0.607019</td>\n",
       "      <td>2.045890</td>\n",
       "      <td>1.348276</td>\n",
       "      <td>0.861439</td>\n",
       "      <td>1.669961</td>\n",
       "      <td>2.332238</td>\n",
       "      <td>1.291089</td>\n",
       "    </tr>\n",
       "    <tr>\n",
       "      <th>2</th>\n",
       "      <td>-1.332827</td>\n",
       "      <td>1.038503</td>\n",
       "      <td>1.856182</td>\n",
       "      <td>-0.535746</td>\n",
       "      <td>-0.825561</td>\n",
       "      <td>-0.820777</td>\n",
       "      <td>-0.843637</td>\n",
       "      <td>1.782699</td>\n",
       "      <td>1.291089</td>\n",
       "    </tr>\n",
       "    <tr>\n",
       "      <th>3</th>\n",
       "      <td>-1.337818</td>\n",
       "      <td>1.038503</td>\n",
       "      <td>1.856182</td>\n",
       "      <td>-0.624215</td>\n",
       "      <td>-0.718768</td>\n",
       "      <td>-0.766028</td>\n",
       "      <td>-0.733781</td>\n",
       "      <td>0.932968</td>\n",
       "      <td>1.291089</td>\n",
       "    </tr>\n",
       "    <tr>\n",
       "      <th>4</th>\n",
       "      <td>-1.337818</td>\n",
       "      <td>1.038503</td>\n",
       "      <td>1.856182</td>\n",
       "      <td>-0.462404</td>\n",
       "      <td>-0.611974</td>\n",
       "      <td>-0.759847</td>\n",
       "      <td>-0.629157</td>\n",
       "      <td>-0.012881</td>\n",
       "      <td>1.291089</td>\n",
       "    </tr>\n",
       "    <tr>\n",
       "      <th>...</th>\n",
       "      <td>...</td>\n",
       "      <td>...</td>\n",
       "      <td>...</td>\n",
       "      <td>...</td>\n",
       "      <td>...</td>\n",
       "      <td>...</td>\n",
       "      <td>...</td>\n",
       "      <td>...</td>\n",
       "      <td>...</td>\n",
       "    </tr>\n",
       "    <tr>\n",
       "      <th>20635</th>\n",
       "      <td>-0.758826</td>\n",
       "      <td>1.801647</td>\n",
       "      <td>-0.289187</td>\n",
       "      <td>-0.444985</td>\n",
       "      <td>-0.388895</td>\n",
       "      <td>-0.512592</td>\n",
       "      <td>-0.443449</td>\n",
       "      <td>-1.216128</td>\n",
       "      <td>-0.116739</td>\n",
       "    </tr>\n",
       "    <tr>\n",
       "      <th>20636</th>\n",
       "      <td>-0.818722</td>\n",
       "      <td>1.806329</td>\n",
       "      <td>-0.845393</td>\n",
       "      <td>-0.888704</td>\n",
       "      <td>-0.920488</td>\n",
       "      <td>-0.944405</td>\n",
       "      <td>-1.008420</td>\n",
       "      <td>-0.691593</td>\n",
       "      <td>-0.116739</td>\n",
       "    </tr>\n",
       "    <tr>\n",
       "      <th>20637</th>\n",
       "      <td>-0.823713</td>\n",
       "      <td>1.778237</td>\n",
       "      <td>-0.924851</td>\n",
       "      <td>-0.174995</td>\n",
       "      <td>-0.125472</td>\n",
       "      <td>-0.369537</td>\n",
       "      <td>-0.174042</td>\n",
       "      <td>-1.142593</td>\n",
       "      <td>-0.116739</td>\n",
       "    </tr>\n",
       "    <tr>\n",
       "      <th>20638</th>\n",
       "      <td>-0.873626</td>\n",
       "      <td>1.778237</td>\n",
       "      <td>-0.845393</td>\n",
       "      <td>-0.355600</td>\n",
       "      <td>-0.305834</td>\n",
       "      <td>-0.604429</td>\n",
       "      <td>-0.393753</td>\n",
       "      <td>-1.054583</td>\n",
       "      <td>-0.116739</td>\n",
       "    </tr>\n",
       "    <tr>\n",
       "      <th>20639</th>\n",
       "      <td>-0.833696</td>\n",
       "      <td>1.750146</td>\n",
       "      <td>-1.004309</td>\n",
       "      <td>0.068408</td>\n",
       "      <td>0.185416</td>\n",
       "      <td>-0.033977</td>\n",
       "      <td>0.079672</td>\n",
       "      <td>-0.780129</td>\n",
       "      <td>-0.116739</td>\n",
       "    </tr>\n",
       "  </tbody>\n",
       "</table>\n",
       "<p>20640 rows × 9 columns</p>\n",
       "</div>"
      ],
      "text/plain": [
       "       longitude  latitude  housing_median_age  total_rooms  total_bedrooms  \\\n",
       "0      -1.327835  1.052548            0.982143    -0.804819       -0.970325   \n",
       "1      -1.322844  1.043185           -0.607019     2.045890        1.348276   \n",
       "2      -1.332827  1.038503            1.856182    -0.535746       -0.825561   \n",
       "3      -1.337818  1.038503            1.856182    -0.624215       -0.718768   \n",
       "4      -1.337818  1.038503            1.856182    -0.462404       -0.611974   \n",
       "...          ...       ...                 ...          ...             ...   \n",
       "20635  -0.758826  1.801647           -0.289187    -0.444985       -0.388895   \n",
       "20636  -0.818722  1.806329           -0.845393    -0.888704       -0.920488   \n",
       "20637  -0.823713  1.778237           -0.924851    -0.174995       -0.125472   \n",
       "20638  -0.873626  1.778237           -0.845393    -0.355600       -0.305834   \n",
       "20639  -0.833696  1.750146           -1.004309     0.068408        0.185416   \n",
       "\n",
       "       population  households  median_income  ocean_proximity  \n",
       "0       -0.974429   -0.977033       2.344766         1.291089  \n",
       "1        0.861439    1.669961       2.332238         1.291089  \n",
       "2       -0.820777   -0.843637       1.782699         1.291089  \n",
       "3       -0.766028   -0.733781       0.932968         1.291089  \n",
       "4       -0.759847   -0.629157      -0.012881         1.291089  \n",
       "...           ...         ...            ...              ...  \n",
       "20635   -0.512592   -0.443449      -1.216128        -0.116739  \n",
       "20636   -0.944405   -1.008420      -0.691593        -0.116739  \n",
       "20637   -0.369537   -0.174042      -1.142593        -0.116739  \n",
       "20638   -0.604429   -0.393753      -1.054583        -0.116739  \n",
       "20639   -0.033977    0.079672      -0.780129        -0.116739  \n",
       "\n",
       "[20640 rows x 9 columns]"
      ]
     },
     "execution_count": 22,
     "metadata": {},
     "output_type": "execute_result"
    }
   ],
   "source": [
    "X = ds[['longitude','latitude','housing_median_age','total_rooms','total_bedrooms','population','households','median_income','ocean_proximity']]\n",
    "X"
   ]
  },
  {
   "cell_type": "code",
   "execution_count": 23,
   "id": "collectible-error",
   "metadata": {
    "scrolled": true
   },
   "outputs": [
    {
     "data": {
      "text/plain": [
       "0        2.129631\n",
       "1        1.314156\n",
       "2        1.258693\n",
       "3        1.165100\n",
       "4        1.172900\n",
       "           ...   \n",
       "20635   -1.115804\n",
       "20636   -1.124470\n",
       "20637   -0.992746\n",
       "20638   -1.058608\n",
       "20639   -1.017878\n",
       "Name: median_house_value, Length: 20640, dtype: float64"
      ]
     },
     "execution_count": 23,
     "metadata": {},
     "output_type": "execute_result"
    }
   ],
   "source": [
    "y=ds['median_house_value']\n",
    "y"
   ]
  },
  {
   "cell_type": "markdown",
   "id": "documented-papua",
   "metadata": {},
   "source": [
    "### Dimensionality Reduction"
   ]
  },
  {
   "cell_type": "markdown",
   "id": "revolutionary-annotation",
   "metadata": {},
   "source": [
    "Using the below code we can check the Feature importance.\n",
    "That is how important a feature is, or how much an independent feature is affecting the target/dependent feature."
   ]
  },
  {
   "cell_type": "code",
   "execution_count": 24,
   "id": "cubic-punishment",
   "metadata": {
    "scrolled": true
   },
   "outputs": [
    {
     "name": "stdout",
     "output_type": "stream",
     "text": [
      "Feature: 0, Score: -0.74334\n",
      "Feature: 1, Score: -0.78792\n",
      "Feature: 2, Score: 0.12621\n",
      "Feature: 3, Score: -0.15725\n",
      "Feature: 4, Score: 0.41973\n",
      "Feature: 5, Score: -0.37712\n",
      "Feature: 6, Score: 0.15596\n",
      "Feature: 7, Score: 0.66320\n",
      "Feature: 8, Score: 0.00046\n"
     ]
    },
    {
     "data": {
      "image/png": "[encoded data removed]",
      "text/plain": [
       "<Figure size 432x288 with 1 Axes>"
      ]
     },
     "metadata": {
      "needs_background": "light"
     },
     "output_type": "display_data"
    }
   ],
   "source": [
    "# linear regression feature importance\n",
    "from sklearn.datasets import make_regression\n",
    "from sklearn.linear_model import LinearRegression\n",
    "from matplotlib import pyplot\n",
    "# define dataset\n",
    "# X, y = make_regression(n_samples=1000, n_features=10, n_informative=5, random_state=1)\n",
    "# define the model\n",
    "model = LinearRegression()\n",
    "# fit the model\n",
    "model.fit(X, y)\n",
    "# get importance\n",
    "importance = model.coef_\n",
    "# summarize feature importance\n",
    "for i,v in enumerate(importance):\n",
    "\tprint('Feature: %0d, Score: %.5f' % (i,v))\n",
    "# plot feature importance\n",
    "pyplot.bar([x for x in range(len(importance))], importance)\n",
    "pyplot.show()"
   ]
  },
  {
   "cell_type": "markdown",
   "id": "czech-cincinnati",
   "metadata": {},
   "source": [
    "We the above analysis we have concluded that features  `ocean_proximity` have very less importance. So we have decided to drop these features."
   ]
  },
  {
   "cell_type": "code",
   "execution_count": 25,
   "id": "proper-project",
   "metadata": {},
   "outputs": [],
   "source": [
    "X=ds[['longitude','latitude','housing_median_age','total_rooms','total_bedrooms','population','households','median_income']]"
   ]
  },
  {
   "cell_type": "code",
   "execution_count": 26,
   "id": "consistent-inspector",
   "metadata": {},
   "outputs": [
    {
     "data": {
      "text/html": [
       "<div>\n",
       "<style scoped>\n",
       "    .dataframe tbody tr th:only-of-type {\n",
       "        vertical-align: middle;\n",
       "    }\n",
       "\n",
       "    .dataframe tbody tr th {\n",
       "        vertical-align: top;\n",
       "    }\n",
       "\n",
       "    .dataframe thead th {\n",
       "        text-align: right;\n",
       "    }\n",
       "</style>\n",
       "<table border=\"1\" class=\"dataframe\">\n",
       "  <thead>\n",
       "    <tr style=\"text-align: right;\">\n",
       "      <th></th>\n",
       "      <th>longitude</th>\n",
       "      <th>latitude</th>\n",
       "      <th>housing_median_age</th>\n",
       "      <th>total_rooms</th>\n",
       "      <th>total_bedrooms</th>\n",
       "      <th>population</th>\n",
       "      <th>households</th>\n",
       "      <th>median_income</th>\n",
       "    </tr>\n",
       "  </thead>\n",
       "  <tbody>\n",
       "    <tr>\n",
       "      <th>0</th>\n",
       "      <td>-1.327835</td>\n",
       "      <td>1.052548</td>\n",
       "      <td>0.982143</td>\n",
       "      <td>-0.804819</td>\n",
       "      <td>-0.970325</td>\n",
       "      <td>-0.974429</td>\n",
       "      <td>-0.977033</td>\n",
       "      <td>2.344766</td>\n",
       "    </tr>\n",
       "    <tr>\n",
       "      <th>1</th>\n",
       "      <td>-1.322844</td>\n",
       "      <td>1.043185</td>\n",
       "      <td>-0.607019</td>\n",
       "      <td>2.045890</td>\n",
       "      <td>1.348276</td>\n",
       "      <td>0.861439</td>\n",
       "      <td>1.669961</td>\n",
       "      <td>2.332238</td>\n",
       "    </tr>\n",
       "    <tr>\n",
       "      <th>2</th>\n",
       "      <td>-1.332827</td>\n",
       "      <td>1.038503</td>\n",
       "      <td>1.856182</td>\n",
       "      <td>-0.535746</td>\n",
       "      <td>-0.825561</td>\n",
       "      <td>-0.820777</td>\n",
       "      <td>-0.843637</td>\n",
       "      <td>1.782699</td>\n",
       "    </tr>\n",
       "    <tr>\n",
       "      <th>3</th>\n",
       "      <td>-1.337818</td>\n",
       "      <td>1.038503</td>\n",
       "      <td>1.856182</td>\n",
       "      <td>-0.624215</td>\n",
       "      <td>-0.718768</td>\n",
       "      <td>-0.766028</td>\n",
       "      <td>-0.733781</td>\n",
       "      <td>0.932968</td>\n",
       "    </tr>\n",
       "    <tr>\n",
       "      <th>4</th>\n",
       "      <td>-1.337818</td>\n",
       "      <td>1.038503</td>\n",
       "      <td>1.856182</td>\n",
       "      <td>-0.462404</td>\n",
       "      <td>-0.611974</td>\n",
       "      <td>-0.759847</td>\n",
       "      <td>-0.629157</td>\n",
       "      <td>-0.012881</td>\n",
       "    </tr>\n",
       "    <tr>\n",
       "      <th>...</th>\n",
       "      <td>...</td>\n",
       "      <td>...</td>\n",
       "      <td>...</td>\n",
       "      <td>...</td>\n",
       "      <td>...</td>\n",
       "      <td>...</td>\n",
       "      <td>...</td>\n",
       "      <td>...</td>\n",
       "    </tr>\n",
       "    <tr>\n",
       "      <th>20635</th>\n",
       "      <td>-0.758826</td>\n",
       "      <td>1.801647</td>\n",
       "      <td>-0.289187</td>\n",
       "      <td>-0.444985</td>\n",
       "      <td>-0.388895</td>\n",
       "      <td>-0.512592</td>\n",
       "      <td>-0.443449</td>\n",
       "      <td>-1.216128</td>\n",
       "    </tr>\n",
       "    <tr>\n",
       "      <th>20636</th>\n",
       "      <td>-0.818722</td>\n",
       "      <td>1.806329</td>\n",
       "      <td>-0.845393</td>\n",
       "      <td>-0.888704</td>\n",
       "      <td>-0.920488</td>\n",
       "      <td>-0.944405</td>\n",
       "      <td>-1.008420</td>\n",
       "      <td>-0.691593</td>\n",
       "    </tr>\n",
       "    <tr>\n",
       "      <th>20637</th>\n",
       "      <td>-0.823713</td>\n",
       "      <td>1.778237</td>\n",
       "      <td>-0.924851</td>\n",
       "      <td>-0.174995</td>\n",
       "      <td>-0.125472</td>\n",
       "      <td>-0.369537</td>\n",
       "      <td>-0.174042</td>\n",
       "      <td>-1.142593</td>\n",
       "    </tr>\n",
       "    <tr>\n",
       "      <th>20638</th>\n",
       "      <td>-0.873626</td>\n",
       "      <td>1.778237</td>\n",
       "      <td>-0.845393</td>\n",
       "      <td>-0.355600</td>\n",
       "      <td>-0.305834</td>\n",
       "      <td>-0.604429</td>\n",
       "      <td>-0.393753</td>\n",
       "      <td>-1.054583</td>\n",
       "    </tr>\n",
       "    <tr>\n",
       "      <th>20639</th>\n",
       "      <td>-0.833696</td>\n",
       "      <td>1.750146</td>\n",
       "      <td>-1.004309</td>\n",
       "      <td>0.068408</td>\n",
       "      <td>0.185416</td>\n",
       "      <td>-0.033977</td>\n",
       "      <td>0.079672</td>\n",
       "      <td>-0.780129</td>\n",
       "    </tr>\n",
       "  </tbody>\n",
       "</table>\n",
       "<p>20640 rows × 8 columns</p>\n",
       "</div>"
      ],
      "text/plain": [
       "       longitude  latitude  housing_median_age  total_rooms  total_bedrooms  \\\n",
       "0      -1.327835  1.052548            0.982143    -0.804819       -0.970325   \n",
       "1      -1.322844  1.043185           -0.607019     2.045890        1.348276   \n",
       "2      -1.332827  1.038503            1.856182    -0.535746       -0.825561   \n",
       "3      -1.337818  1.038503            1.856182    -0.624215       -0.718768   \n",
       "4      -1.337818  1.038503            1.856182    -0.462404       -0.611974   \n",
       "...          ...       ...                 ...          ...             ...   \n",
       "20635  -0.758826  1.801647           -0.289187    -0.444985       -0.388895   \n",
       "20636  -0.818722  1.806329           -0.845393    -0.888704       -0.920488   \n",
       "20637  -0.823713  1.778237           -0.924851    -0.174995       -0.125472   \n",
       "20638  -0.873626  1.778237           -0.845393    -0.355600       -0.305834   \n",
       "20639  -0.833696  1.750146           -1.004309     0.068408        0.185416   \n",
       "\n",
       "       population  households  median_income  \n",
       "0       -0.974429   -0.977033       2.344766  \n",
       "1        0.861439    1.669961       2.332238  \n",
       "2       -0.820777   -0.843637       1.782699  \n",
       "3       -0.766028   -0.733781       0.932968  \n",
       "4       -0.759847   -0.629157      -0.012881  \n",
       "...           ...         ...            ...  \n",
       "20635   -0.512592   -0.443449      -1.216128  \n",
       "20636   -0.944405   -1.008420      -0.691593  \n",
       "20637   -0.369537   -0.174042      -1.142593  \n",
       "20638   -0.604429   -0.393753      -1.054583  \n",
       "20639   -0.033977    0.079672      -0.780129  \n",
       "\n",
       "[20640 rows x 8 columns]"
      ]
     },
     "execution_count": 26,
     "metadata": {},
     "output_type": "execute_result"
    }
   ],
   "source": [
    "X"
   ]
  },
  {
   "cell_type": "code",
   "execution_count": 27,
   "id": "baking-ottawa",
   "metadata": {},
   "outputs": [
    {
     "data": {
      "text/plain": [
       "0        2.129631\n",
       "1        1.314156\n",
       "2        1.258693\n",
       "3        1.165100\n",
       "4        1.172900\n",
       "           ...   \n",
       "20635   -1.115804\n",
       "20636   -1.124470\n",
       "20637   -0.992746\n",
       "20638   -1.058608\n",
       "20639   -1.017878\n",
       "Name: median_house_value, Length: 20640, dtype: float64"
      ]
     },
     "execution_count": 27,
     "metadata": {},
     "output_type": "execute_result"
    }
   ],
   "source": [
    "y"
   ]
  },
  {
   "cell_type": "markdown",
   "id": "swedish-bulgarian",
   "metadata": {},
   "source": [
    "Splitting X and y into `X_train`, `X_test`, `y_train`, `y_test`."
   ]
  },
  {
   "cell_type": "code",
   "execution_count": 28,
   "id": "sustainable-birmingham",
   "metadata": {},
   "outputs": [],
   "source": [
    "from sklearn.model_selection import train_test_split\n",
    "X_train,X_test,y_train,y_test=train_test_split(X,y,test_size=0.2,random_state=225)"
   ]
  },
  {
   "cell_type": "markdown",
   "id": "discrete-while",
   "metadata": {},
   "source": [
    "Fitting a `LinearRegression` model "
   ]
  },
  {
   "cell_type": "code",
   "execution_count": 29,
   "id": "daily-plant",
   "metadata": {},
   "outputs": [
    {
     "data": {
      "text/plain": [
       "LinearRegression()"
      ]
     },
     "execution_count": 29,
     "metadata": {},
     "output_type": "execute_result"
    }
   ],
   "source": [
    "from sklearn.linear_model import LinearRegression\n",
    "LR=LinearRegression()\n",
    "LR"
   ]
  },
  {
   "cell_type": "code",
   "execution_count": 30,
   "id": "functioning-intake",
   "metadata": {
    "scrolled": true
   },
   "outputs": [
    {
     "data": {
      "text/plain": [
       "LinearRegression()"
      ]
     },
     "execution_count": 30,
     "metadata": {},
     "output_type": "execute_result"
    }
   ],
   "source": [
    "LR.fit(X_train,y_train)"
   ]
  },
  {
   "cell_type": "markdown",
   "id": "intense-deadline",
   "metadata": {},
   "source": [
    "Predicting the `X_test` values and storing those values in variable `y_predict`"
   ]
  },
  {
   "cell_type": "code",
   "execution_count": 31,
   "id": "satisfactory-newsletter",
   "metadata": {},
   "outputs": [
    {
     "data": {
      "text/plain": [
       "array([ 0.57503152, -0.5177451 , -0.56504193, ..., -0.26961845,\n",
       "       -0.58536093, -0.38201   ])"
      ]
     },
     "execution_count": 31,
     "metadata": {},
     "output_type": "execute_result"
    }
   ],
   "source": [
    "y_predict=LR.predict(X_test)\n",
    "y_predict"
   ]
  },
  {
   "cell_type": "markdown",
   "id": "fundamental-orbit",
   "metadata": {},
   "source": [
    "Checking Mean Squared Error using the method `mean_squared_error` from `metrics` library"
   ]
  },
  {
   "cell_type": "code",
   "execution_count": 32,
   "id": "developed-respect",
   "metadata": {},
   "outputs": [
    {
     "data": {
      "text/plain": [
       "0.3492120627702268"
      ]
     },
     "execution_count": 32,
     "metadata": {},
     "output_type": "execute_result"
    }
   ],
   "source": [
    "from sklearn.metrics import mean_squared_error\n",
    "mean_squared_error(y_test,y_predict)"
   ]
  },
  {
   "cell_type": "markdown",
   "id": "acoustic-studio",
   "metadata": {},
   "source": [
    "Testing Accuracy of or model using `score` method."
   ]
  },
  {
   "cell_type": "code",
   "execution_count": 33,
   "id": "recreational-classification",
   "metadata": {},
   "outputs": [
    {
     "name": "stdout",
     "output_type": "stream",
     "text": [
      "65.39316054604183 %\n"
     ]
    }
   ],
   "source": [
    "r2_score = LR.score(X_test,y_test)\n",
    "print(r2_score*100,'%')"
   ]
  },
  {
   "cell_type": "markdown",
   "id": "amber-acquisition",
   "metadata": {},
   "source": [
    "## Deploying Our model using `Gradio`."
   ]
  },
  {
   "cell_type": "code",
   "execution_count": 34,
   "id": "suspended-morning",
   "metadata": {},
   "outputs": [],
   "source": [
    "import gradio as gr"
   ]
  },
  {
   "cell_type": "code",
   "execution_count": 35,
   "id": "regional-county",
   "metadata": {},
   "outputs": [
    {
     "name": "stdout",
     "output_type": "stream",
     "text": [
      "Running on local URL:  http://127.0.0.1:7860/\n",
      "Running on public URL: https://14171.gradio.app\n",
      "\n",
      "This share link will expire in 72 hours. To get longer links, send an email to: support@gradio.app\n"
     ]
    },
    {
     "data": {
      "text/html": [
       "\n",
       "        <iframe\n",
       "            width=\"900\"\n",
       "            height=\"500\"\n",
       "            src=\"https://14171.gradio.app\"\n",
       "            frameborder=\"0\"\n",
       "            allowfullscreen\n",
       "        ></iframe>\n",
       "        "
      ],
      "text/plain": [
       "<IPython.lib.display.IFrame at 0x1bb991c0580>"
      ]
     },
     "metadata": {},
     "output_type": "display_data"
    },
    {
     "data": {
      "text/plain": [
       "(<Flask 'gradio.networking'>,\n",
       " 'http://127.0.0.1:7860/',\n",
       " 'https://14171.gradio.app')"
      ]
     },
     "execution_count": 35,
     "metadata": {},
     "output_type": "execute_result"
    },
    {
     "name": "stderr",
     "output_type": "stream",
     "text": [
      "c:\\users\\91971\\appdata\\local\\programs\\python\\python39\\lib\\site-packages\\sklearn\\base.py:441: UserWarning: X does not have valid feature names, but LinearRegression was fitted with feature names\n",
      "  warnings.warn(\n"
     ]
    }
   ],
   "source": [
    "def get_value(longitude,latitude,housing_median_age,total_rooms,total_bedrooms,population,households,median_income):\n",
    "    list1=[[longitude,latitude,housing_median_age,total_rooms,total_bedrooms,population,households,median_income]]\n",
    "    pred=LR.predict(list1)\n",
    "    value=pred[0]\n",
    "    output='$'+str(value*115392.82040257193+206855.8168826367)\n",
    "    return output\n",
    "\n",
    "\n",
    "gr.Interface(fn=get_value, inputs=[ gr.inputs.Slider(-3, 3),gr.inputs.Slider(-3, 3),'number',gr.inputs.Slider(0, 20),gr.inputs.Slider(0, 20),gr.inputs.Slider(0, 50),gr.inputs.Slider(0,20),\"number\"], outputs=\"number\").launch(share=True)"
   ]
  },
  {
   "cell_type": "code",
   "execution_count": null,
   "id": "documentary-firewall",
   "metadata": {},
   "outputs": [],
   "source": []
  },
  {
   "cell_type": "code",
   "execution_count": null,
   "id": "circular-cincinnati",
   "metadata": {},
   "outputs": [],
   "source": []
  }
 ],
 "metadata": {
  "kernelspec": {
   "display_name": "Python 3",
   "language": "python",
   "name": "python3"
  },
  "language_info": {
   "codemirror_mode": {
    "name": "ipython",
    "version": 3
   },
   "file_extension": ".py",
   "mimetype": "text/x-python",
   "name": "python",
   "nbconvert_exporter": "python",
   "pygments_lexer": "ipython3",
   "version": "3.9.0"
  }
 },
 "nbformat": 4,
 "nbformat_minor": 5
}
